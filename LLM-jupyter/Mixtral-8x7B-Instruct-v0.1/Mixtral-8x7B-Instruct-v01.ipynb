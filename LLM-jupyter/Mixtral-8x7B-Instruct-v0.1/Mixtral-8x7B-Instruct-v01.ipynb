{
 "cells": [
  {
   "cell_type": "code",
   "execution_count": 1,
   "id": "dc1185e5-bdac-45cf-a338-0f76256b242f",
   "metadata": {
    "execution": {
     "iopub.execute_input": "2025-07-18T12:56:10.654959Z",
     "iopub.status.busy": "2025-07-18T12:56:10.654499Z",
     "iopub.status.idle": "2025-07-18T12:56:16.159864Z",
     "shell.execute_reply": "2025-07-18T12:56:16.159309Z",
     "shell.execute_reply.started": "2025-07-18T12:56:10.654942Z"
    }
   },
   "outputs": [],
   "source": [
    "!pip install -q transformers accelerate bitsandbytes einops\n",
    "!pip install -q pymupdf\n"
   ]
  },
  {
   "cell_type": "code",
   "execution_count": null,
   "id": "cda9ab27-56bc-4e63-98f3-fdabfa445229",
   "metadata": {
    "execution": {
     "iopub.execute_input": "2025-07-18T12:57:10.254561Z",
     "iopub.status.busy": "2025-07-18T12:57:10.254118Z",
     "iopub.status.idle": "2025-07-18T12:57:10.426264Z",
     "shell.execute_reply": "2025-07-18T12:57:10.425710Z",
     "shell.execute_reply.started": "2025-07-18T12:57:10.254542Z"
    }
   },
   "outputs": [],
   "source": []
  },
  {
   "cell_type": "code",
   "execution_count": 4,
   "id": "f6bbdeff-eead-4de7-8c7a-8e10aa1f2b4a",
   "metadata": {
    "execution": {
     "iopub.execute_input": "2025-07-18T12:57:16.728508Z",
     "iopub.status.busy": "2025-07-18T12:57:16.728179Z",
     "iopub.status.idle": "2025-07-18T13:00:26.505375Z",
     "shell.execute_reply": "2025-07-18T13:00:26.504894Z",
     "shell.execute_reply.started": "2025-07-18T12:57:16.728492Z"
    }
   },
   "outputs": [
    {
     "data": {
      "application/vnd.jupyter.widget-view+json": {
       "model_id": "13e011536e1f4493aeb4baf2b9308897",
       "version_major": 2,
       "version_minor": 0
      },
      "text/plain": [
       "tokenizer_config.json:   0%|          | 0.00/2.10k [00:00<?, ?B/s]"
      ]
     },
     "metadata": {},
     "output_type": "display_data"
    },
    {
     "data": {
      "application/vnd.jupyter.widget-view+json": {
       "model_id": "b18d9ac457d24fb3992eccb993b1e19f",
       "version_major": 2,
       "version_minor": 0
      },
      "text/plain": [
       "tokenizer.model:   0%|          | 0.00/493k [00:00<?, ?B/s]"
      ]
     },
     "metadata": {},
     "output_type": "display_data"
    },
    {
     "data": {
      "application/vnd.jupyter.widget-view+json": {
       "model_id": "28636caa391d47439342979bdd28a05b",
       "version_major": 2,
       "version_minor": 0
      },
      "text/plain": [
       "tokenizer.json:   0%|          | 0.00/1.80M [00:00<?, ?B/s]"
      ]
     },
     "metadata": {},
     "output_type": "display_data"
    },
    {
     "data": {
      "application/vnd.jupyter.widget-view+json": {
       "model_id": "81e7cd2541e2401e81eefaf5904e9e0f",
       "version_major": 2,
       "version_minor": 0
      },
      "text/plain": [
       "special_tokens_map.json:   0%|          | 0.00/414 [00:00<?, ?B/s]"
      ]
     },
     "metadata": {},
     "output_type": "display_data"
    },
    {
     "data": {
      "application/vnd.jupyter.widget-view+json": {
       "model_id": "55fa5ac02b934bbaa58dd704c04a92b1",
       "version_major": 2,
       "version_minor": 0
      },
      "text/plain": [
       "config.json:   0%|          | 0.00/720 [00:00<?, ?B/s]"
      ]
     },
     "metadata": {},
     "output_type": "display_data"
    },
    {
     "data": {
      "application/vnd.jupyter.widget-view+json": {
       "model_id": "7e6b4d5350914b1680c25b8bec838c96",
       "version_major": 2,
       "version_minor": 0
      },
      "text/plain": [
       "model.safetensors.index.json:   0%|          | 0.00/92.7k [00:00<?, ?B/s]"
      ]
     },
     "metadata": {},
     "output_type": "display_data"
    },
    {
     "data": {
      "application/vnd.jupyter.widget-view+json": {
       "model_id": "040770452930430cbba784ce8453de3e",
       "version_major": 2,
       "version_minor": 0
      },
      "text/plain": [
       "Fetching 19 files:   0%|          | 0/19 [00:00<?, ?it/s]"
      ]
     },
     "metadata": {},
     "output_type": "display_data"
    },
    {
     "data": {
      "application/vnd.jupyter.widget-view+json": {
       "model_id": "3fc66992721e4fa18b6f12fc7f83aa1c",
       "version_major": 2,
       "version_minor": 0
      },
      "text/plain": [
       "model-00005-of-00019.safetensors:   0%|          | 0.00/4.98G [00:00<?, ?B/s]"
      ]
     },
     "metadata": {},
     "output_type": "display_data"
    },
    {
     "data": {
      "application/vnd.jupyter.widget-view+json": {
       "model_id": "a2a6adcd1889499786c18b2e53187f90",
       "version_major": 2,
       "version_minor": 0
      },
      "text/plain": [
       "model-00001-of-00019.safetensors:   0%|          | 0.00/4.89G [00:00<?, ?B/s]"
      ]
     },
     "metadata": {},
     "output_type": "display_data"
    },
    {
     "data": {
      "application/vnd.jupyter.widget-view+json": {
       "model_id": "01c28439af404b4eb80e44dff4271ae2",
       "version_major": 2,
       "version_minor": 0
      },
      "text/plain": [
       "model-00008-of-00019.safetensors:   0%|          | 0.00/4.98G [00:00<?, ?B/s]"
      ]
     },
     "metadata": {},
     "output_type": "display_data"
    },
    {
     "data": {
      "application/vnd.jupyter.widget-view+json": {
       "model_id": "b82377e77dcd4e8fb7a0e5c036ed8806",
       "version_major": 2,
       "version_minor": 0
      },
      "text/plain": [
       "model-00004-of-00019.safetensors:   0%|          | 0.00/4.90G [00:00<?, ?B/s]"
      ]
     },
     "metadata": {},
     "output_type": "display_data"
    },
    {
     "data": {
      "application/vnd.jupyter.widget-view+json": {
       "model_id": "b111c4771f8a4ef38aa109d1484c73c3",
       "version_major": 2,
       "version_minor": 0
      },
      "text/plain": [
       "model-00003-of-00019.safetensors:   0%|          | 0.00/4.98G [00:00<?, ?B/s]"
      ]
     },
     "metadata": {},
     "output_type": "display_data"
    },
    {
     "data": {
      "application/vnd.jupyter.widget-view+json": {
       "model_id": "476b515a19ca48ad949c7b893f538ea2",
       "version_major": 2,
       "version_minor": 0
      },
      "text/plain": [
       "model-00006-of-00019.safetensors:   0%|          | 0.00/4.98G [00:00<?, ?B/s]"
      ]
     },
     "metadata": {},
     "output_type": "display_data"
    },
    {
     "data": {
      "application/vnd.jupyter.widget-view+json": {
       "model_id": "5f40c1b2382b47e1881ea58520a96105",
       "version_major": 2,
       "version_minor": 0
      },
      "text/plain": [
       "model-00002-of-00019.safetensors:   0%|          | 0.00/4.98G [00:00<?, ?B/s]"
      ]
     },
     "metadata": {},
     "output_type": "display_data"
    },
    {
     "data": {
      "application/vnd.jupyter.widget-view+json": {
       "model_id": "a42eadb1c2994a54bce93656ec82e855",
       "version_major": 2,
       "version_minor": 0
      },
      "text/plain": [
       "model-00007-of-00019.safetensors:   0%|          | 0.00/4.90G [00:00<?, ?B/s]"
      ]
     },
     "metadata": {},
     "output_type": "display_data"
    },
    {
     "data": {
      "application/vnd.jupyter.widget-view+json": {
       "model_id": "269a7590db1b4c52a61337e2011583b3",
       "version_major": 2,
       "version_minor": 0
      },
      "text/plain": [
       "model-00009-of-00019.safetensors:   0%|          | 0.00/4.98G [00:00<?, ?B/s]"
      ]
     },
     "metadata": {},
     "output_type": "display_data"
    },
    {
     "data": {
      "application/vnd.jupyter.widget-view+json": {
       "model_id": "dd134537db844011869916d7e55b33c5",
       "version_major": 2,
       "version_minor": 0
      },
      "text/plain": [
       "model-00010-of-00019.safetensors:   0%|          | 0.00/4.90G [00:00<?, ?B/s]"
      ]
     },
     "metadata": {},
     "output_type": "display_data"
    },
    {
     "data": {
      "application/vnd.jupyter.widget-view+json": {
       "model_id": "af9614104e844c7f8ee6a33575c365b8",
       "version_major": 2,
       "version_minor": 0
      },
      "text/plain": [
       "model-00011-of-00019.safetensors:   0%|          | 0.00/4.98G [00:00<?, ?B/s]"
      ]
     },
     "metadata": {},
     "output_type": "display_data"
    },
    {
     "data": {
      "application/vnd.jupyter.widget-view+json": {
       "model_id": "12605a87523e4dfd9342052a085f4af2",
       "version_major": 2,
       "version_minor": 0
      },
      "text/plain": [
       "model-00012-of-00019.safetensors:   0%|          | 0.00/4.98G [00:00<?, ?B/s]"
      ]
     },
     "metadata": {},
     "output_type": "display_data"
    },
    {
     "data": {
      "application/vnd.jupyter.widget-view+json": {
       "model_id": "f9ecf1d2c5824b4786aaa3534a81693f",
       "version_major": 2,
       "version_minor": 0
      },
      "text/plain": [
       "model-00013-of-00019.safetensors:   0%|          | 0.00/4.98G [00:00<?, ?B/s]"
      ]
     },
     "metadata": {},
     "output_type": "display_data"
    },
    {
     "data": {
      "application/vnd.jupyter.widget-view+json": {
       "model_id": "734f43a390924df8bdb746fe8f1bb971",
       "version_major": 2,
       "version_minor": 0
      },
      "text/plain": [
       "model-00014-of-00019.safetensors:   0%|          | 0.00/4.90G [00:00<?, ?B/s]"
      ]
     },
     "metadata": {},
     "output_type": "display_data"
    },
    {
     "data": {
      "application/vnd.jupyter.widget-view+json": {
       "model_id": "ea6653813a284a6a972849e5989f109d",
       "version_major": 2,
       "version_minor": 0
      },
      "text/plain": [
       "model-00015-of-00019.safetensors:   0%|          | 0.00/4.98G [00:00<?, ?B/s]"
      ]
     },
     "metadata": {},
     "output_type": "display_data"
    },
    {
     "data": {
      "application/vnd.jupyter.widget-view+json": {
       "model_id": "64f0b3efda884f6da66dc38df77f4fe1",
       "version_major": 2,
       "version_minor": 0
      },
      "text/plain": [
       "model-00016-of-00019.safetensors:   0%|          | 0.00/4.98G [00:00<?, ?B/s]"
      ]
     },
     "metadata": {},
     "output_type": "display_data"
    },
    {
     "data": {
      "application/vnd.jupyter.widget-view+json": {
       "model_id": "a1a6a5ecb09f456184c33101b59779b0",
       "version_major": 2,
       "version_minor": 0
      },
      "text/plain": [
       "model-00017-of-00019.safetensors:   0%|          | 0.00/4.90G [00:00<?, ?B/s]"
      ]
     },
     "metadata": {},
     "output_type": "display_data"
    },
    {
     "data": {
      "application/vnd.jupyter.widget-view+json": {
       "model_id": "3c65fd60192740f6a3125b7a48e7308f",
       "version_major": 2,
       "version_minor": 0
      },
      "text/plain": [
       "model-00018-of-00019.safetensors:   0%|          | 0.00/4.98G [00:00<?, ?B/s]"
      ]
     },
     "metadata": {},
     "output_type": "display_data"
    },
    {
     "data": {
      "application/vnd.jupyter.widget-view+json": {
       "model_id": "2a81b51070c34c2e9c33c040b200ce99",
       "version_major": 2,
       "version_minor": 0
      },
      "text/plain": [
       "model-00019-of-00019.safetensors:   0%|          | 0.00/4.22G [00:00<?, ?B/s]"
      ]
     },
     "metadata": {},
     "output_type": "display_data"
    },
    {
     "data": {
      "application/vnd.jupyter.widget-view+json": {
       "model_id": "b8dcec8d87d74bb9ace6469a034aa466",
       "version_major": 2,
       "version_minor": 0
      },
      "text/plain": [
       "Loading checkpoint shards:   0%|          | 0/19 [00:00<?, ?it/s]"
      ]
     },
     "metadata": {},
     "output_type": "display_data"
    },
    {
     "data": {
      "application/vnd.jupyter.widget-view+json": {
       "model_id": "d8ed4201ea104bd7a5ecda6f9e18cf5f",
       "version_major": 2,
       "version_minor": 0
      },
      "text/plain": [
       "generation_config.json:   0%|          | 0.00/116 [00:00<?, ?B/s]"
      ]
     },
     "metadata": {},
     "output_type": "display_data"
    },
    {
     "name": "stderr",
     "output_type": "stream",
     "text": [
      "Device set to use cuda:0\n",
      "The following generation flags are not valid and may be ignored: ['temperature']. Set `TRANSFORMERS_VERBOSITY=info` for more details.\n"
     ]
    }
   ],
   "source": [
    "from transformers import AutoTokenizer, AutoModelForCausalLM, BitsAndBytesConfig, pipeline\n",
    "import torch\n",
    "\n",
    "model_id = \"mistralai/Mixtral-8x7B-Instruct-v0.1\"\n",
    "\n",
    "bnb_config = BitsAndBytesConfig(\n",
    "    load_in_4bit=True,\n",
    "    bnb_4bit_compute_dtype=torch.float16,\n",
    "    bnb_4bit_use_double_quant=True,\n",
    "    bnb_4bit_quant_type=\"nf4\"\n",
    ")\n",
    "\n",
    "tokenizer = AutoTokenizer.from_pretrained(model_id)\n",
    "\n",
    "model = AutoModelForCausalLM.from_pretrained(\n",
    "    model_id,\n",
    "    quantization_config=bnb_config,\n",
    "    device_map=\"auto\"\n",
    ")\n",
    "\n",
    "pipe = pipeline(\n",
    "    \"text-generation\",\n",
    "    model=model,\n",
    "    tokenizer=tokenizer,\n",
    "    max_new_tokens=4096,\n",
    "    do_sample=False,\n",
    "    return_full_text=False\n",
    ")\n"
   ]
  },
  {
   "cell_type": "code",
   "execution_count": 27,
   "id": "d2d59afd-54bc-492c-aa94-8ddb94f9561e",
   "metadata": {
    "execution": {
     "iopub.execute_input": "2025-07-18T14:09:18.508240Z",
     "iopub.status.busy": "2025-07-18T14:09:18.507890Z",
     "iopub.status.idle": "2025-07-18T14:09:18.511195Z",
     "shell.execute_reply": "2025-07-18T14:09:18.510674Z",
     "shell.execute_reply.started": "2025-07-18T14:09:18.508220Z"
    }
   },
   "outputs": [],
   "source": [
    "def preprocess_cv_text(text):\n",
    "    import re\n",
    "    text = re.sub(r'\\n+', '\\n', text)\n",
    "    text = re.sub(r'[ \\t]+', ' ', text)\n",
    "    return text.strip()\n"
   ]
  },
  {
   "cell_type": "code",
   "execution_count": 28,
   "id": "58804de1-1726-4f8e-8841-6d6dafed1452",
   "metadata": {
    "execution": {
     "iopub.execute_input": "2025-07-18T14:09:33.437617Z",
     "iopub.status.busy": "2025-07-18T14:09:33.437285Z",
     "iopub.status.idle": "2025-07-18T14:09:33.440676Z",
     "shell.execute_reply": "2025-07-18T14:09:33.440156Z",
     "shell.execute_reply.started": "2025-07-18T14:09:33.437599Z"
    }
   },
   "outputs": [],
   "source": [
    "import fitz\n",
    "\n",
    "def extract_text_from_pdf(pdf_path):\n",
    "    doc = fitz.open(pdf_path)\n",
    "    text= \"\\n\".join(page.get_text() for page in doc).strip()\n",
    "    return preprocess_cv_text(text)\n"
   ]
  },
  {
   "cell_type": "code",
   "execution_count": 8,
   "id": "5540b312-8f9d-4002-b64f-00d5e3ef33bb",
   "metadata": {
    "execution": {
     "iopub.execute_input": "2025-07-18T13:05:59.783349Z",
     "iopub.status.busy": "2025-07-18T13:05:59.782933Z",
     "iopub.status.idle": "2025-07-18T13:05:59.786124Z",
     "shell.execute_reply": "2025-07-18T13:05:59.785651Z",
     "shell.execute_reply.started": "2025-07-18T13:05:59.783332Z"
    }
   },
   "outputs": [],
   "source": [
    "def build_prompt(cv_text):\n",
    "    return f\"\"\"\n",
    "Tu es un extracteur d'informations structuré. À partir du texte du CV ci-dessous, fournis un objet JSON valide contenant les champs suivants :\n",
    "\n",
    "- name\n",
    "- profile\n",
    "- phone\n",
    "- email\n",
    "- address\n",
    "- experience (liste de: company, title, start_date, end_date, description)\n",
    "- education (liste de: university, degree, start_date, end_date, description)\n",
    "- certifications (liste de: title, organization, date, description)\n",
    "- skills (liste de chaînes)\n",
    "\n",
    "Donne uniquement un JSON valide avec tout le text du CV n’oublie aucun mot, sans commentaire ni texte en plus.\n",
    "\n",
    "CV:\n",
    "\\\"\\\"\\\"{cv_text}\\\"\\\"\\\"\n",
    "\"\"\"\n"
   ]
  },
  {
   "cell_type": "code",
   "execution_count": 9,
   "id": "228574b8-46b9-4c46-9d53-2b0fda97eb86",
   "metadata": {
    "execution": {
     "iopub.execute_input": "2025-07-18T13:06:02.934892Z",
     "iopub.status.busy": "2025-07-18T13:06:02.934687Z",
     "iopub.status.idle": "2025-07-18T13:07:30.979869Z",
     "shell.execute_reply": "2025-07-18T13:07:30.979381Z",
     "shell.execute_reply.started": "2025-07-18T13:06:02.934876Z"
    }
   },
   "outputs": [
    {
     "name": "stderr",
     "output_type": "stream",
     "text": [
      "The following generation flags are not valid and may be ignored: ['temperature']. Set `TRANSFORMERS_VERBOSITY=info` for more details.\n",
      "Setting `pad_token_id` to `eos_token_id`:2 for open-end generation.\n"
     ]
    },
    {
     "name": "stdout",
     "output_type": "stream",
     "text": [
      "\n",
      "```json\n",
      "{\n",
      "  \"name\": \"Achraf HADJ TAIEB\",\n",
      "  \"profile\": \"Directeur IT et Chef de projet expérimenté, certifié Agile Scrum PSPO I, avec plus de 16 ans d’expérience dans la gestion de projets stratégiques et la conduite de transformations digitales.\",\n",
      "  \"phone\": \"+33 6 44 18 07 72\",\n",
      "  \"email\": \"achraf.ht@gmail.com\",\n",
      "  \"address\": {\n",
      "    \"location\": \"Paris\",\n",
      "    \"carbonne_impact\": \"9.78 g CO₂e\"\n",
      "  },\n",
      "  \"experience\": [\n",
      "    {\n",
      "      \"company\": \"Allianz Trade\",\n",
      "      \"title\": \"Directeur et Chef de projet IT\",\n",
      "      \"start_date\": \"Nov 2021\",\n",
      "      \"end_date\": \"Dec 2024\",\n",
      "      \"description\": \"Programme Qirin - Document Services\"\n",
      "    },\n",
      "    {\n",
      "      \"company\": \"AXA Assurance\",\n",
      "      \"title\": \"Digitalisation des processus RH et pilotage de projets transverses\",\n",
      "      \"start_date\": \"\",\n",
      "      \"end_date\": \"\",\n",
      "      \"description\": \"Sous La direction du Head of IT\"\n",
      "    },\n",
      "    {\n",
      "      \"company\": \"Ville de Bruxelles\",\n",
      "      \"title\": \"Transformation digitale et gestion d’applications critiques en architecture data transverse\",\n",
      "      \"start_date\": \"\",\n",
      "      \"end_date\": \"\",\n",
      "      \"description\": \"\"\n",
      "    },\n",
      "    {\n",
      "      \"company\": \"Finbill (Startup)\",\n",
      "      \"title\": \"Mise en œuvre d’innovations technologiques, gestion des projets IT et déploiement SaaS\",\n",
      "      \"start_date\": \"\",\n",
      "      \"end_date\": \"\",\n",
      "      \"description\": \"\"\n",
      "    },\n",
      "    {\n",
      "      \"company\": \"Sopra HR Softaware\",\n",
      "      \"title\": \"Consultant SIRH\",\n",
      "      \"start_date\": \"\",\n",
      "      \"end_date\": \"\",\n",
      "      \"description\": \"8 ans\"\n",
      "    }\n",
      "  ],\n",
      "  \"education\": [\n",
      "    {\n",
      "      \"university\": \"Faculté des sciences de Sfax\",\n",
      "      \"degree\": \"Maitrise Informatique, option réseaux et systèmes distribués\",\n",
      "      \"start_date\": \"2007\",\n",
      "      \"end_date\": \"\",\n",
      "      \"description\": \"\"\n",
      "    },\n",
      "    {\n",
      "      \"university\": \"École nationale d'ingénieur de Sfax – Tunisie\",\n",
      "      \"degree\": \"Master Technologies de l’information\",\n",
      "      \"start_date\": \"2008\",\n",
      "      \"end_date\": \"\",\n",
      "      \"description\": \"\"\n",
      "    }\n",
      "  ],\n",
      "  \"certifications\": [\n",
      "    {\n",
      "      \"title\": \"Certification. PSPO1\",\n",
      "      \"organization\": \"Formation méthode agile scrum\",\n",
      "      \"date\": \"2019\",\n",
      "      \"description\": \"\"\n",
      "    }\n",
      "  ],\n",
      "  \"skills\": [\n",
      "    \"Managériales\",\n",
      "    \"Chefferie/Directions de projet\",\n",
      "    \"Fonctionnelles\",\n",
      "    \"Techniques\",\n",
      "    \"Méthodologie\",\n",
      "    \"Secteur métier\",\n",
      "    \"Banque & Assurance\",\n",
      "    \"E-commerce et marketing digitale\",\n",
      "    \"Ressources humaines\"\n",
      "  ]\n",
      "}\n",
      "```\n"
     ]
    }
   ],
   "source": [
    "\n",
    "pdf_path = \"CV_Achraf_HT_Directeur et Chef de projet IT_2025.pdf\"\n",
    "\n",
    "cv_text = extract_text_from_pdf(pdf_path)\n",
    "prompt = build_prompt(cv_text)\n",
    "\n",
    "output = pipe(prompt)[0][\"generated_text\"]\n",
    "print(output)\n"
   ]
  },
  {
   "cell_type": "code",
   "execution_count": 30,
   "id": "66708996-d8b1-4e8c-a7a7-9efd1263a51d",
   "metadata": {
    "execution": {
     "iopub.execute_input": "2025-07-18T14:12:44.701891Z",
     "iopub.status.busy": "2025-07-18T14:12:44.701250Z",
     "iopub.status.idle": "2025-07-18T14:12:44.705737Z",
     "shell.execute_reply": "2025-07-18T14:12:44.705304Z",
     "shell.execute_reply.started": "2025-07-18T14:12:44.701861Z"
    }
   },
   "outputs": [
    {
     "name": "stderr",
     "output_type": "stream",
     "text": [
      "Device set to use cuda:0\n",
      "The following generation flags are not valid and may be ignored: ['temperature']. Set `TRANSFORMERS_VERBOSITY=info` for more details.\n"
     ]
    }
   ],
   "source": [
    "pope = pipeline(\n",
    "    \"text-generation\",\n",
    "    model=model,\n",
    "    tokenizer=tokenizer,\n",
    "    max_new_tokens=8192,  \n",
    "    do_sample=False,\n",
    "    return_full_text=False\n",
    ")"
   ]
  },
  {
   "cell_type": "code",
   "execution_count": 36,
   "id": "5aed0dc7-0d01-4769-849e-6a50042bdd0e",
   "metadata": {
    "execution": {
     "iopub.execute_input": "2025-07-18T14:33:07.886328Z",
     "iopub.status.busy": "2025-07-18T14:33:07.885770Z",
     "iopub.status.idle": "2025-07-18T14:33:07.889370Z",
     "shell.execute_reply": "2025-07-18T14:33:07.888877Z",
     "shell.execute_reply.started": "2025-07-18T14:33:07.886311Z"
    }
   },
   "outputs": [],
   "source": [
    "def build_prompt_position(cv_text):\n",
    "    return f\"\"\"\n",
    "Tu es un assistant chargé d’analyser un texte brut de CV. Je veux que tu extraies, pour chaque champ suivant, les positions de début et de fin (offsets) dans le texte d’origine. Ne donne pas la valeur extraite, seulement les positions en JSON.\n",
    "Champs à extraire :\n",
    "name (nom complet de la personne)\n",
    "profile (résumé ou accroche professionnelle)\n",
    "phone\n",
    "email\n",
    "address\n",
    "Ensuite, pour les sections structurées, retourne une liste de blocs, chacun avec les positions des sous-champs suivants :\n",
    "experience: liste de blocs contenant :\n",
    "company\n",
    "title\n",
    "start_date\n",
    "end_date\n",
    "description\n",
    "education: liste de blocs contenant :\n",
    "establishment\n",
    "degree\n",
    "graduation_date\n",
    "description\n",
    "certifications: liste de blocs contenant :\n",
    "title\n",
    "organization\n",
    "date\n",
    "description\n",
    "skills: liste de chaînes avec leurs positions (chaque compétence doit être localisée avec sa position de début et de fin)\n",
    "Parcours tout le text et donne uniquement un JSON valide avec le format JSON des positions de début et de fin (offsets) des champs dans le texte d’origine sans commentaire ni texte en plus.\n",
    "\n",
    "CV:\n",
    "\\\"\\\"\\\"{cv_text}\\\"\\\"\\\"\n",
    "\"\"\"\n"
   ]
  },
  {
   "cell_type": "code",
   "execution_count": 40,
   "id": "3e78c0a0-7abc-4e71-907b-8e9e0870802f",
   "metadata": {
    "execution": {
     "iopub.execute_input": "2025-07-18T14:41:01.668986Z",
     "iopub.status.busy": "2025-07-18T14:41:01.668696Z",
     "iopub.status.idle": "2025-07-18T14:41:34.368567Z",
     "shell.execute_reply": "2025-07-18T14:41:34.367708Z",
     "shell.execute_reply.started": "2025-07-18T14:41:01.668971Z"
    }
   },
   "outputs": [
    {
     "name": "stderr",
     "output_type": "stream",
     "text": [
      "The following generation flags are not valid and may be ignored: ['temperature']. Set `TRANSFORMERS_VERBOSITY=info` for more details.\n",
      "Setting `pad_token_id` to `eos_token_id`:2 for open-end generation.\n"
     ]
    },
    {
     "name": "stdout",
     "output_type": "stream",
     "text": [
      "here\n",
      "Présentation \n",
      " \n",
      "Directeur IT et Chef de projet expérimenté, certifié Agile Scrum PSPO I, avec plus de 16 ans d’expérience dans la \n",
      "gestion de projets stratégiques et la conduite de transformations digitales. Reconnu pour ma rigueur, ma capacité à \n",
      "piloter des équipes pluridisciplinaires et multiculturelles, j’interviens avec efficacité sur des environnements \n",
      "complexes, en garantissant un haut niveau de qualité, de performance et de conformité. \n",
      " \n",
      "Information \n",
      "Localisation : Paris - Impact Carbonne : 9.78 g CO₂e \n",
      " \n",
      "TJM : 700€ \n",
      "Disponibilité : Immédiate \n",
      "Compétences clés \n",
      "Managériales \n",
      "§ \n",
      "Leadership avéré dans la direction de projets \n",
      "complexes (jusqu’à 40 pays impactés). \n",
      "§ \n",
      "Gestion de programmes stratégiques et \n",
      "coordination d'équipes pluridisciplinaires. \n",
      "§ \n",
      "Organisation et animation de comités de \n",
      "gouvernance (architecture, stratégie IT). \n",
      "§ \n",
      "Capacité à définir et piloter des stratégies de \n",
      "transformation (digitalisation, migration, \n",
      "innovation). \n",
      "§ \n",
      " \n",
      "Chefferie/Directions de projet \n",
      "§ \n",
      "Conduite de projets techniques complexes liés à \n",
      "des environnements critiques (Mainframe, \n",
      "migration cloud). \n",
      "§ \n",
      "Élaboration de livrables clés : cadrage, synthèse, \n",
      "plan d’action, échéanciers, cartographie. \n",
      "§ \n",
      "Suivi opérationnel et budgétaire (planification, \n",
      "allocation des ressources, gestion des risques). \n",
      "§ \n",
      "Pilotage de chantiers techniques, de la \n",
      "conception à la mise en œuvre. \n",
      " \n",
      "Fonctionnelles \n",
      "§ \n",
      "Expertise dans les infrastructures mutualisées \n",
      "(architecture, hébergement, services partagés). \n",
      "§ \n",
      "Expérience dans la définition et la validation des \n",
      "architectures techniques (microservices, API). \n",
      "§ \n",
      "Collaboration avec des parties prenantes variées \n",
      "(techniques, métiers, clients). \n",
      "§ \n",
      "Gestion des phases de tests et de recette (plan \n",
      "de test, rapport de tests, recette utilisateur). \n",
      " \n",
      "Techniques \n",
      "§ \n",
      "Connaissance éprouvée des écosystèmes \n",
      "techniques, y compris le cloud (AWS) et les \n",
      "architectures microservices. \n",
      "§ \n",
      "Maîtrise des outils collaboratifs (JIRA, \n",
      "Confluence) et des pratiques DevOps (CI/CD, \n",
      "TDD, BDD). \n",
      "§ \n",
      "Mise en œuvre de pratiques avancées : sécurité \n",
      "by design, automatisation des tests, monitoring. \n",
      "§ \n",
      "Familiarité avec les environnements Mainframe \n",
      "et la migration d’infrastructures. \n",
      " \n",
      "Méthodologie \n",
      "§ \n",
      "Méthodes Agile (Scrum et kanban) Framework \n",
      "Safe (PI planning, team breakout ..) \n",
      "§ \n",
      "Cycle en V \n",
      "§ \n",
      "NPM - New Product Introduction \n",
      "§ \n",
      "Lean management \n",
      "§ \n",
      "Conception, modélisation et cartographie des \n",
      "processus \n",
      "Secteur métier : \n",
      "§ \n",
      "Banque & Assurance \n",
      "§ \n",
      "E-commerce et marketing digitale \n",
      "§ \n",
      "Ressources humaines \n",
      "Expériences clés \n",
      "📞 Téléphone : +33 6 44 18 07 72 \n",
      "📧 Email : achraf.ht@gmail.com \n",
      "🔗 LinkedIn : linkedin.com/in/achrafht \n",
      "Achraf HADJ TAIEB \n",
      " Directeur et Chef de projet IT \n",
      "16 ans d’expérience \n",
      "• \n",
      "Allianz Trade : Direction de projet sur le programme Qirin (migration cloud, microservices AWS). \n",
      "• \n",
      "AXA Assurance : Digitalisation des processus RH et pilotage de projets transverses (API, workflows). \n",
      "• \n",
      "Ville de Bruxelles : Transformation digitale et gestion d’applications critiques en architecture data \n",
      "transverse. \n",
      "• \n",
      "Finbill (Startup) : Mise en œuvre d’innovations technologiques, gestion des projets IT et déploiement SaaS. \n",
      "• \n",
      "Sopra HR Softaware : 8 ans en tant que Consultant SIRH. \n",
      " \n",
      "Expériences professionnelles \n",
      " \n",
      "Depuis Nov 2021 – \n",
      "Dec 2024 \n",
      "Allianz Trade - EulerHermes \n",
      "Manager (Transition) – Direction- Chef de projet - Product owner \n",
      " \n",
      "Programme Qirin - Document Services \n",
      "Périmètre (Projets) : \n",
      "• \n",
      "Décommissionnement de IDSV1, \n",
      "• \n",
      "Document services \n",
      "• \n",
      "Notification system \n",
      "• \n",
      "Migration de données \n",
      "Allianz Trade (Euler Hermes), leader mondial de l’assurance-crédit, déploie un nouveau \n",
      "système d’information appelé Qirin, destiné à remplacer l’ancien SI IRP dans plus de 40 \n",
      "pays. Basé sur une architecture microservices dans le cloud AWS (Kinesis, EMR, Fargate, \n",
      "DynamoDB, Lambdas, Terraform), Qirin vise à couvrir à la fois l’existant fonctionnel et les \n",
      "nouvelles exigences métiers. \n",
      "Sous la responsabilité du Head of IT, j’interviens en tant que Directeur de projet sur l’un \n",
      "des cinq grands périmètres du programme, en charge de l’ensemble des applications liées \n",
      "au système de notification pour les 40 pays concernés. \n",
      " \n",
      "Descriptif des \n",
      "missions : \n",
      "Je dirige les équipes produits (Product Manager, Product Owner, UX), les équipes \n",
      "techniques (développements, architecture), les équipes clouds (devops, saas) et l’équipe \n",
      "agile (coach, scrum) et Je suis responsable des architectures solutions (micro-services, \n",
      "micro-frontends, api management) des différentes technologies. \n",
      " \n",
      "§ Niveau Direction \n",
      "• \n",
      "Préparer le rapport pour chaque projet (avancements, blocage, arbitrage, \n",
      "Risques... ) \n",
      "• \n",
      "Réaliser un compte rendu avec les différentes actions et décisions \n",
      "• \n",
      "Gestion budgétaire: plan, atterrissage, demandes d’achat, réception factures \n",
      "• \n",
      "Suivre le budget avec les PMO \n",
      "• \n",
      "Communiquer un flash report Hebdo \n",
      "• \n",
      "Contribuer à la stratégie DSI \n",
      " \n",
      "§ Niveau Transverse – MOA Projet – Métiers (40 payes regroupés sur 9 régions) \n",
      "• \n",
      "Animer les Workshops métier \n",
      "• \n",
      "Participer à la conception et la validation de l’architecture fonctionnelle (High-\n",
      "level design) \n",
      "• \n",
      "Définir une stratégie Rollout (Scope des poc, pilote, cible, …) \n",
      "• \n",
      "Définir les phases de tests et de recette (UAT, performances, systemes.) \n",
      "• \n",
      "Communiquer la roadmap (découpage du backlog, estimation, lotissement, \n",
      "priorisation, reporting) \n",
      "• \n",
      "Valider les contrats d’interfaces avec la gouvernance \n",
      "• \n",
      "Préparer les livraisons et la mise en production \n",
      "• \n",
      "Valider le RACI avant chaque phase de déploiement. \n",
      "• \n",
      "Valider la mise en production. \n",
      "§ \n",
      "§ Au niveau Sqaud - Chapters de compétences qui regroupent les collaborateurs en \n",
      "fonction de leurs compétences (mobile, front-end, back-end, sharepoint, UX/UI, \n",
      "Scrum, QA/tests, Architecture) \n",
      "• \n",
      "Assurer la mise en place de nouvelles pratiques visant à créer de la valeur : \n",
      "story mapping, design thinking, user research \n",
      "• \n",
      "Valider les spécifications fonctionnelles : Epic et les Users stories. \n",
      "• \n",
      "Challenger la solution technique et garantir une architecture micro-services. \n",
      "• \n",
      "Assurer le bon déroulement du sprint avec le Scrum master. \n",
      "• \n",
      "Assister à la rétro et être force de proposition. \n",
      "• \n",
      "Contribuer aux comités d’architecture, stratégie et schéma directeur IT. \n",
      "• \n",
      "Assurer la mise en place du devops et migration cloud \n",
      "• \n",
      "Mise en place de pratiques visant à améliorer la qualité (TDD, BDD, revue de \n",
      "code, automatisation des tests), la sécurité (Security by design) et l’outillage \n",
      "adapté (Sonar, Cast) \n",
      "§ Au niveau Produit \n",
      "• \n",
      "Valider l’analyse et l’audite de l’existant \n",
      "• \n",
      "Valider l’architecture (low level design ) \n",
      "• \n",
      "Valider les nouvelles fonctionnalités \n",
      "• \n",
      "Design API Swagger, objets, events (Collaboration avec la gouvernance)… \n",
      "• \n",
      "Définir les SLA, KPI \n",
      "• \n",
      "Déployer le Monitoring et log management. \n",
      "• \n",
      " \n",
      "• \n",
      "Outils : \n",
      "§ iObeya/ miro \n",
      "§ JIRA – confluence \n",
      "§ PPM et ServiceNow \n",
      "§ Confluence, sharepoint \n",
      "§ Postman \n",
      "De Janv 2021-\n",
      "Novembre 2021 \n",
      "AXA Assurance \n",
      "Squad RH&COM de AXA France \n",
      " \n",
      "Manager – Digitalisation des processus RH \n",
      "Sous La direction du Head of IT je suis en charge des projets transverses SIRH : \n",
      "Norkom, Pleiades, Smart working, Workflow- Self-service, Interfaces API … \n",
      "Descriptif des \n",
      "missions : \n",
      "§ Planifier les projets. \n",
      "§ Éditer les cahiers des charges en collaboration avec les parties prenantes de chaque \n",
      "projet. \n",
      "§ Estimer les charges, Allouer les ressources. \n",
      "§ Suivre la réalisation, préparer les rapports de suivi, Identifier les écarts et prévoir les \n",
      "risques. \n",
      "§ Préparer la stratégie de livraison \n",
      "§ Assurer la livraison (OPS, change management ….) \n",
      "§ Assurer COMEX-COSTRAT-COPROJ …. \n",
      "§ Assurer la coordination entre les équipes RH, OPS, ETL, Juridique, Sureté, Éditeurs \n",
      "de solutions et fournisseurs …. \n",
      "§ Assurer le passage des projets aux différentes comités de validation. \n",
      "Outils : \n",
      "§ SAP BO \n",
      "§ Kibana \n",
      "§ JIRA – confluence \n",
      "§ MS Project \n",
      "de Avril. 2019 à \n",
      "Dec 2020 \n",
      "Finbill \n",
      "§ Stratup dans l’objectif est de fournir une solution de facturation et de \n",
      "paiement en ligne (Web et Mobile) pour répondre aux obligations légales \n",
      "de la facture dématérialisée basée sur la technologie Blockchain. \n",
      " Project Manager \n",
      "Directions de projets \n",
      "Descriptif des \n",
      "missions : \n",
      "§ Assurer le board meetting (CODIR) \n",
      "§ Définir les objectifs stratégiques de la solution et de l’entreprise. \n",
      "§ Estimer les charges, Allouer les ressources. \n",
      "§ Estimer le budget annuel nécessaire \n",
      "§ Assurer la coordination entre les équipes Développement, Marketing, finance, Sales \n",
      "et conformité. \n",
      "§ Valider les nouvelles features (fonctionnalités) \n",
      "§ Préparer les rapports, \n",
      "§ Identifier les écarts et prévoir les risques. \n",
      "Préparer la stratégie de livraison (GO TO Market). \n",
      " \n",
      "Chef de produit – Innovation Manager \n",
      "Définir la stratégique et l’offre, identifier les segments et sous segments du \n",
      "marché, élaborer la stratégie marketing. \n",
      " \n",
      "Descriptif des \n",
      "missions : \n",
      "§ Réaliser des Benchmarks. \n",
      "§ Participer à la définition de la stratégie du produit. \n",
      "§ Étudier et participer au design produit (UI / UX) avec Sketch/figma. \n",
      "§ Suivre le développement de l’offre. \n",
      "§ Étudier la valeur d’intégration des solutions tierces dans l’offre. \n",
      "§ Élaborer les stratégies de sécurité des données sensibles. \n",
      "§ Définir et suivre les KPI produit. \n",
      "§ Mettre en place une stratégie de tests et une usine Devops (GIT, jenkins, Sonar ….) \n",
      "§ Priorisez les sujets en lien avec l’ensemble des parties prenantes. \n",
      "§ Assurer la mise à jour des CGU, des clauses de respect de la confidentialité et de la \n",
      "vie privée des utilisateurs. \n",
      "§ Améliorer le design produit et l’expérience utilisateur. \n",
      " \n",
      "Product Owner \n",
      "Descriptif des \n",
      "missions : \n",
      "§ Rédiger les spécifications fonctionnelles : Epic et les Users stories. \n",
      "§ Raffinement du Backlog. \n",
      "§ Valider l’architecture. \n",
      "§ Suivi de la roadmap (découpage du backlog, estimation, lotissement, priorisation, \n",
      "reporting). \n",
      "§ Challenger la solution technique et garantir une architecture micro-services. \n",
      "§ Animer le Grooming, La review, et le planning meeting. \n",
      "§ Effectuer des tests d’intégration. \n",
      "§ Tester la sécurité des API et du paramétrage Keyclock. \n",
      "§ Assurer le bon déroulement du sprint avec le Scrum master. \n",
      "§ Assister à la rétro et être force de proposition. \n",
      "Solutions tierces \n",
      "intégrées : \n",
      " \n",
      "§ MangoPay : Prestataire de paiement. \n",
      "§ Onfido : Prestataire de vérification d’identité Biométrique. \n",
      "§ Ellisphere, Informations économiques, financières et légales sur les entreprises, \n",
      "Vérification KYC. \n",
      "§ Tink : Agrégation bancaire et vérification d’identité bancaire. \n",
      "§ Google analytics, tags,. \n",
      "Outils : \n",
      " \n",
      "§ Sketch, Redmine, Confluence, Jira \n",
      "§ Google Analytics, tags, Ad words …. \n",
      "§ Cloud SaaS OVH & AWS \n",
      "JIRA, Confluence \n",
      "Technologie : \n",
      "§ Architecture Microservice \n",
      "§ API First \n",
      "§ Angluar, Java spring boot, security, Batch, NodJS \n",
      "§ Blockchain Ethereum \n",
      "Auth0 & keycloak \n",
      "De mars 2017 Avril. \n",
      "2019 \n",
      "Ville de Bruxelles \n",
      "§ Digitalisation des processus métier \n",
      " IT Manager \n",
      "Digital Transformation Program \n",
      "Descriptif des \n",
      "missions : \n",
      "Gial, la société publique qui gère l’informatique de la ville de Bruxelles, souhaite digitaliser \n",
      "certains de ses processus métier RH : \n",
      "Sous La direction du Head of IT et en collaboration avec la direction RH de la ville de \n",
      "Bruxelles, j’accompagne la transformation digitale de La ville en étant responsable des \n",
      "applications. J’encadre une équipe produit pluridisciplinaire travaillant en méthodologie \n",
      "Agile/Scrum. \n",
      " \n",
      "§ Encadrement d'environ 15 personnes internes et externes composée de Business \n",
      "Analysts, Développeurs, Scrums masters, Intégrateurs/Ops. \n",
      "§ Développement d’une culture agile au sein de la DSI \n",
      "§ Mise en place d’une architecture data transverse et commune pour toutes les \n",
      "applications. \n",
      "§ Mise en place de la gouvernance de données \n",
      "§ Responsable du delivery des projets digitaux du domaine en coordination avec les \n",
      "chefs de projets (cadrage, chiffrage, réalisation, mise en production, exploitation) et \n",
      "dans le respect des normes et standards de la Ville. \n",
      "§ Suivi des développements en interne, externalisé (centre de service) ou au forfait. \n",
      "§ Relations opérationnelles avec les différents départements métiers (marketing, \n",
      "relation citoyens, digital) et DSI (architecture, production). Organisation de comités \n",
      "d’instruction et de comités de maintenance. Participation aux comités de pilotage \n",
      "projets. \n",
      " \n",
      "Technologies \n",
      "§ Backend (Java/j2ee, play framework, node.js) \n",
      "§ Frontend (reactJS, Angular, ws rest/json), mobile (iOS, Android, React Native) \n",
      "§ Base de données : MySQL, MongoDB \n",
      "outils : JIRA, Git, Jenkins, XL Deploy, Docker, EasyVista, Oracle SWP, Sonar \n",
      " \n",
      " \n",
      "Responsable du Delivery des Projets Web et Mobiles \n",
      "§ Réalisation d’un POC – Application mobile IOS de demande d’absence \n",
      "pour les fonctionnaires de la ville de BRUXELLES \n",
      "Descriptif des \n",
      "missions : \n",
      "Gial, la société qui gère l’informatique de la ville de Bruxelles, souhaite proposer une solution \n",
      "mobile pour les fonctionnaires de la ville pour simplifier les demandes d’absences. \n",
      "L’application est connectée en temps réel au SIRH de la ville via une API SOAP en java. \n",
      " \n",
      "§ \n",
      "Mise en place d’une « Software Factory »: définition de l’organisation, \n",
      "recrutement d’un Techlead et d’un UX Lead. \n",
      "§ \n",
      "Encadrement de l’équipe composée d’externes et d’internes \n",
      "§ \n",
      "Suivi budgétaire du projet \n",
      "§ \n",
      "Réponse aux demandes projets des métiers: cadrage, ateliers, chiffrage, mise \n",
      "en œuvre en interne au sein de la Software Factory ou sous traitée au forfait. \n",
      "Définition de la roadmap projets et suivi du delivery des projets en utilisant les \n",
      "méthodologies Agile (Scrum). Évangélisation des métiers. \n",
      " Principales techologies : mobiles iOS & Android (objective C, Java, Phonegap/cordova), \n",
      "CMS (drupal, wordpress), Web (JAVA/J2EE, AngularJS, webservice REST/JSON), \n",
      "Sharepoint, Oracle, MySQL \n",
      " \n",
      "Intervention en \n",
      "Juin 2016 \n",
      " Ministère de la défense \n",
      " Projet Source Solde Audit et analyse du code \n",
      " Intervention ponctuelle d’expertise \n",
      "Audit et analyse des interfaces Source Solde (COBOL-JAVA-SQL) \n",
      "Descriptif des \n",
      "missions : \n",
      "§ \n",
      "Entretiens avec les architectes du Ministère de la Défense. \n",
      "§ \n",
      "Revue des violations trouvées par l'outil CAST. \n",
      "§ \n",
      "Revue du code livré. \n",
      "§ \n",
      "Rédaction d’un diagramme qui résume l’implémentation du SIRH faite pour le \n",
      "MIN DEF. \n",
      "§ \n",
      "Rédaction du rapport d'audit et d'analyse sur l’architecture mise en place et sur \n",
      "la qualité du développement. \n",
      "§ \n",
      "Présentation de la restitution finale de l'étude qualité de l'application \n",
      "Source Solde au comité de pilotage. \n",
      " \n",
      "De Janv. 2014 \n",
      "Mars 2017 \n",
      "La poste courrier \n",
      "§ \n",
      "MaBox RH : Portail web et applications Mobiles \n",
      " \n",
      "Chef de Projet \n",
      "CSIRH de la poste courrier \n",
      "Descriptif des \n",
      "missions : \n",
      "Sous la responsabilité du chef de service CSIRH de la poste courrier, je suis en \n",
      "charge des projets des domaines « Gestion des talents », « Formation » et « \n",
      "Absences » des applications intranet et extranet. \n",
      "Suivi de production – Suivi de performances – Reporting \n",
      " \n",
      "§ \n",
      "Relation avec les différents départements métiers \n",
      "§ \n",
      "Relation avec les différentes maitrises d’ouvrage internes (Formation, Gestion \n",
      "administrative, Marketing, Support, R&D, Consulting) \n",
      "§ \n",
      "Analyse, conception et développement d’applications (web et mobile) \n",
      "§ \n",
      "Gestion des projets : recueil des besoins, planification des tâches, suivi des \n",
      "devs, respect des délais, Pilotage de l’équipe (4 personnes). \n",
      "§ \n",
      "Maintenance, formation et support aux utilisateurs internes. \n",
      "§ \n",
      "Rédaction de plans de test et suivi des recettes \n",
      "§ \n",
      "Suivi des mises en productions et gestion des incidents \n",
      "§ \n",
      "Support et formation aux utilisateurs \n",
      "§ \n",
      "Mise en place d’un outil de reporting sous MS Reporting Services et Business \n",
      "Objects : administration, conception d’univers, conception de rapports, \n",
      "formation, support aux utilisateurs. \n",
      "Documentation technique et utilisateur. \n",
      "Outils \n",
      " \n",
      "JIRA, Confluence, Redmine, HPQC, business object, Excel, VBA. \n",
      "Janvier. 2013-\n",
      "Dec.2013 \n",
      "Vinci Energie \n",
      "(Projet de migration) \n",
      " \n",
      "Assistant Chef de projet \n",
      "Intervention d’assistance technico fonctionnelle au chef de projet SIRH \n",
      "Descriptif des \n",
      "missions : \n",
      " \n",
      " \n",
      " \n",
      " \n",
      " \n",
      " \n",
      " \n",
      " \n",
      " \n",
      "Projet de Migration - Pilotage du domaine « Habilitations » - \n",
      "Refonte- recueil des besoins - Suivi des travaux \n",
      "§ \n",
      "Etude d’impacts sur les modules : GA GTA, PAIE, Poste Paie, Formation et \n",
      "Reporting. \n",
      "§ \n",
      "Rédaction des spécifications fonctionnelles détaillées. \n",
      "§ \n",
      "Gestion des projets : planification des tâches, suivi des devs, respect des délais, \n",
      "relations avec les différentes maitrises d’ouvrage internes \n",
      "§ \n",
      "Chiffrage de la solution et planification de la mise en œuvre. \n",
      "§ \n",
      "Suivi des travaux de migration des entités techniques du module GA et des \n",
      "rapports. \n",
      "Animation des présentations pour l’équipe MOA. \n",
      "Outils Sharepoint, JIRA, HPQC, Excel, Sql, \n",
      "Juillet 2008-Dec 2012 \n",
      "HR ACCESS \n",
      "Solution SIRH pour les grands comptes \n",
      " \n",
      " \n",
      "Consultant SIRH : \n",
      "Descriptif des missions \n",
      ": \n",
      "Sous la direction du chef de service France et Europe, Je suis en charge des projets \n",
      "liés au déploiement des domaines GA, Self-services, Formation et GPEC chez nos \n",
      "clients. \n",
      " \n",
      "§ \n",
      "Recensement et challenge des besoins client sur les workflows des \n",
      "modules \n",
      "« Gestion \n",
      "administrative », « Gestion \n",
      "des\n",
      " \n",
      "talents » et \n",
      "§ \n",
      "« Recrutement » \n",
      "§ \n",
      "Conception et rédaction des spécifications techniques \n",
      "§ \n",
      "Planification et suivi des développements des workflows \n",
      "§ \n",
      "Mise e place de la stratégie de recette \n",
      "§ \n",
      "Encadrement de 5 consultants \n",
      "§ \n",
      "Mise en place, conjointement avec le client, du plan de stabilisation des \n",
      "anomalies du self-service (Portail collaboratif) \n",
      "§ \n",
      "Recensement et conception des évolutions des états post-paie \n",
      "§ \n",
      "Implémentation des développements complexes \n",
      "§ \n",
      "Mise en place d’une interface avec People Doc. \n",
      " Team Lead : \n",
      " \n",
      "Alchemy : Le projet consiste à déployer le progiciel HR ACCESS en interne pour les \n",
      "employés de HR ACCESS. Le périmètre concerne 8 pays en 5 langues et différentes \n",
      "réglementations. \n",
      "Modules : Administration du personnel, Gestion des congés, GPEC, Apprentissage, \n",
      "Embauche/réembauche \n",
      " \n",
      "§ \n",
      "Identification des besoins clients et mise en place des processus de \n",
      "validation automatisé \n",
      "§ \n",
      "Conception et rédaction des spécifications techniques \n",
      "§ \n",
      "Planification et suivi \n",
      "§ \n",
      "Mise en place de la stratégie de recette \n",
      "§ \n",
      "Encadrement de 5 consultants \n",
      " \n",
      "Formations \n",
      "Langues \n",
      " \n",
      " \n",
      "§ \n",
      "Arabe, Français : Bilingue \n",
      " Consultant / Développeur \n",
      " \n",
      "Équipe RUN - TMA : Maintenance applicatif & outsourcing EMEA \n",
      " \n",
      "AG2R La Mondiale : \n",
      "§ \n",
      "Mise en œuvre, conjointement avec le client, du plan de stabilisation \n",
      "concernant le portail Self-services \n",
      "§ \n",
      "Audit et Correction du paramétrages techniques des bulletins de paie \n",
      "§ \n",
      "Développement et paramétrage complexes \n",
      "Groupe MAPA \n",
      "§ \n",
      "Déploiement du portail web Self-service « Employé » en production \n",
      "§ \n",
      "Transfert de compétences à l’équipe TMA \n",
      "NBAD - Banque Nationale d’Abu-Dhabi \n",
      "§ \n",
      "Déploiement du sportail web elf-service learning (LMS) \n",
      "§ \n",
      "Mise en place de la campagne d’évaluation Talent Management \n",
      "GRAS SAVOYE \n",
      "§ \n",
      "Déploiement du portail Self-services \n",
      "§ \n",
      "Transfert de compétences à l’équipe du système de gestion des \n",
      "applications \n",
      "§ \n",
      "Supervision d’un consultant Juinor \n",
      "GDF Suez \n",
      "§ \n",
      "Animation d’ateliers de planification et de conception d’ateliers en libre-\n",
      "service de modules « Gestion administrative » et « apprentissage » \n",
      "§ \n",
      "Rédaction d’études fonctionnelles et techniques \n",
      "§ \n",
      "Aider à tester et à gérer les améliorations \n",
      "§ \n",
      "Chef d’équipe de 3 consultants \n",
      "Groupe SOS \n",
      "§ \n",
      "Développement des processus guidés pour la gestion administrative \n",
      "§ \n",
      "Elaboration de la fiche de paie \n",
      "Gué de Getrag \n",
      "§ \n",
      "Définition de l’accès et des rôles des autorisations \n",
      "§ \n",
      "Développement de processus de gestion administrative guidés \n",
      "3 Suisses \n",
      "§ \n",
      "Rapports de développement pour la gestion du temps et de l’activité \n",
      "Louis Vuitton \n",
      "§ \n",
      "Développement de rapports pour le module « Participation & \n",
      "Intéressement » \n",
      "§ \n",
      "Correction de bugs \n",
      " 2007 \n",
      "§ \n",
      "Maitrise Informatique, option réseaux et systèmes distribués – Faculté des \n",
      "sciences de Sfax \n",
      "2008 \n",
      "§ \n",
      "Master Technologies de l’information - École nationale d'ingénieur de Sfax – \n",
      "Tunisie : \n",
      "2011 \n",
      "§ \n",
      "Formation ‘Process com’ : méthodes de communication, modèle d’analyse et de \n",
      "compréhension de sa propre personnalité et d'autrui. \n",
      "2019 \n",
      "§ \n",
      "Formation méthode agile scrum – Certification. PSPO1 \n",
      "§ \n",
      "Anglais : Bonne maitrise \n",
      "Centres d’intérêt \n",
      " \n",
      " \n",
      "§ \n",
      "Musique : Guitare classique et acoustique \n",
      "§ \n",
      "Bateau : Permis côtier\n"
     ]
    },
    {
     "ename": "KeyboardInterrupt",
     "evalue": "",
     "output_type": "error",
     "traceback": [
      "\u001b[0;31m---------------------------------------------------------------------------\u001b[0m",
      "\u001b[0;31mKeyboardInterrupt\u001b[0m                         Traceback (most recent call last)",
      "Cell \u001b[0;32mIn[40], line 9\u001b[0m\n\u001b[1;32m      6\u001b[0m \u001b[38;5;28mprint\u001b[39m(cv_text1)\n\u001b[1;32m      7\u001b[0m prompt \u001b[38;5;241m=\u001b[39m build_prompt_position(cv_text)\n\u001b[0;32m----> 9\u001b[0m output \u001b[38;5;241m=\u001b[39m \u001b[43mpope\u001b[49m\u001b[43m(\u001b[49m\u001b[43mprompt\u001b[49m\u001b[43m)\u001b[49m[\u001b[38;5;241m0\u001b[39m][\u001b[38;5;124m\"\u001b[39m\u001b[38;5;124mgenerated_text\u001b[39m\u001b[38;5;124m\"\u001b[39m]\n\u001b[1;32m     10\u001b[0m \u001b[38;5;28mprint\u001b[39m(output)\n",
      "File \u001b[0;32m/opt/conda/lib/python3.12/site-packages/transformers/pipelines/text_generation.py:316\u001b[0m, in \u001b[0;36mTextGenerationPipeline.__call__\u001b[0;34m(self, text_inputs, **kwargs)\u001b[0m\n\u001b[1;32m    314\u001b[0m             \u001b[38;5;28;01melse\u001b[39;00m:\n\u001b[1;32m    315\u001b[0m                 \u001b[38;5;28;01mreturn\u001b[39;00m \u001b[38;5;28msuper\u001b[39m()\u001b[38;5;241m.\u001b[39m\u001b[38;5;21m__call__\u001b[39m(\u001b[38;5;28mlist\u001b[39m(chats), \u001b[38;5;241m*\u001b[39m\u001b[38;5;241m*\u001b[39mkwargs)\n\u001b[0;32m--> 316\u001b[0m \u001b[38;5;28;01mreturn\u001b[39;00m \u001b[38;5;28;43msuper\u001b[39;49m\u001b[43m(\u001b[49m\u001b[43m)\u001b[49m\u001b[38;5;241;43m.\u001b[39;49m\u001b[38;5;21;43m__call__\u001b[39;49m\u001b[43m(\u001b[49m\u001b[43mtext_inputs\u001b[49m\u001b[43m,\u001b[49m\u001b[43m \u001b[49m\u001b[38;5;241;43m*\u001b[39;49m\u001b[38;5;241;43m*\u001b[39;49m\u001b[43mkwargs\u001b[49m\u001b[43m)\u001b[49m\n",
      "File \u001b[0;32m/opt/conda/lib/python3.12/site-packages/transformers/pipelines/base.py:1464\u001b[0m, in \u001b[0;36mPipeline.__call__\u001b[0;34m(self, inputs, num_workers, batch_size, *args, **kwargs)\u001b[0m\n\u001b[1;32m   1456\u001b[0m     \u001b[38;5;28;01mreturn\u001b[39;00m \u001b[38;5;28mnext\u001b[39m(\n\u001b[1;32m   1457\u001b[0m         \u001b[38;5;28miter\u001b[39m(\n\u001b[1;32m   1458\u001b[0m             \u001b[38;5;28mself\u001b[39m\u001b[38;5;241m.\u001b[39mget_iterator(\n\u001b[0;32m   (...)\u001b[0m\n\u001b[1;32m   1461\u001b[0m         )\n\u001b[1;32m   1462\u001b[0m     )\n\u001b[1;32m   1463\u001b[0m \u001b[38;5;28;01melse\u001b[39;00m:\n\u001b[0;32m-> 1464\u001b[0m     \u001b[38;5;28;01mreturn\u001b[39;00m \u001b[38;5;28;43mself\u001b[39;49m\u001b[38;5;241;43m.\u001b[39;49m\u001b[43mrun_single\u001b[49m\u001b[43m(\u001b[49m\u001b[43minputs\u001b[49m\u001b[43m,\u001b[49m\u001b[43m \u001b[49m\u001b[43mpreprocess_params\u001b[49m\u001b[43m,\u001b[49m\u001b[43m \u001b[49m\u001b[43mforward_params\u001b[49m\u001b[43m,\u001b[49m\u001b[43m \u001b[49m\u001b[43mpostprocess_params\u001b[49m\u001b[43m)\u001b[49m\n",
      "File \u001b[0;32m/opt/conda/lib/python3.12/site-packages/transformers/pipelines/base.py:1471\u001b[0m, in \u001b[0;36mPipeline.run_single\u001b[0;34m(self, inputs, preprocess_params, forward_params, postprocess_params)\u001b[0m\n\u001b[1;32m   1469\u001b[0m \u001b[38;5;28;01mdef\u001b[39;00m\u001b[38;5;250m \u001b[39m\u001b[38;5;21mrun_single\u001b[39m(\u001b[38;5;28mself\u001b[39m, inputs, preprocess_params, forward_params, postprocess_params):\n\u001b[1;32m   1470\u001b[0m     model_inputs \u001b[38;5;241m=\u001b[39m \u001b[38;5;28mself\u001b[39m\u001b[38;5;241m.\u001b[39mpreprocess(inputs, \u001b[38;5;241m*\u001b[39m\u001b[38;5;241m*\u001b[39mpreprocess_params)\n\u001b[0;32m-> 1471\u001b[0m     model_outputs \u001b[38;5;241m=\u001b[39m \u001b[38;5;28;43mself\u001b[39;49m\u001b[38;5;241;43m.\u001b[39;49m\u001b[43mforward\u001b[49m\u001b[43m(\u001b[49m\u001b[43mmodel_inputs\u001b[49m\u001b[43m,\u001b[49m\u001b[43m \u001b[49m\u001b[38;5;241;43m*\u001b[39;49m\u001b[38;5;241;43m*\u001b[39;49m\u001b[43mforward_params\u001b[49m\u001b[43m)\u001b[49m\n\u001b[1;32m   1472\u001b[0m     outputs \u001b[38;5;241m=\u001b[39m \u001b[38;5;28mself\u001b[39m\u001b[38;5;241m.\u001b[39mpostprocess(model_outputs, \u001b[38;5;241m*\u001b[39m\u001b[38;5;241m*\u001b[39mpostprocess_params)\n\u001b[1;32m   1473\u001b[0m     \u001b[38;5;28;01mreturn\u001b[39;00m outputs\n",
      "File \u001b[0;32m/opt/conda/lib/python3.12/site-packages/transformers/pipelines/base.py:1371\u001b[0m, in \u001b[0;36mPipeline.forward\u001b[0;34m(self, model_inputs, **forward_params)\u001b[0m\n\u001b[1;32m   1369\u001b[0m     \u001b[38;5;28;01mwith\u001b[39;00m inference_context():\n\u001b[1;32m   1370\u001b[0m         model_inputs \u001b[38;5;241m=\u001b[39m \u001b[38;5;28mself\u001b[39m\u001b[38;5;241m.\u001b[39m_ensure_tensor_on_device(model_inputs, device\u001b[38;5;241m=\u001b[39m\u001b[38;5;28mself\u001b[39m\u001b[38;5;241m.\u001b[39mdevice)\n\u001b[0;32m-> 1371\u001b[0m         model_outputs \u001b[38;5;241m=\u001b[39m \u001b[38;5;28;43mself\u001b[39;49m\u001b[38;5;241;43m.\u001b[39;49m\u001b[43m_forward\u001b[49m\u001b[43m(\u001b[49m\u001b[43mmodel_inputs\u001b[49m\u001b[43m,\u001b[49m\u001b[43m \u001b[49m\u001b[38;5;241;43m*\u001b[39;49m\u001b[38;5;241;43m*\u001b[39;49m\u001b[43mforward_params\u001b[49m\u001b[43m)\u001b[49m\n\u001b[1;32m   1372\u001b[0m         model_outputs \u001b[38;5;241m=\u001b[39m \u001b[38;5;28mself\u001b[39m\u001b[38;5;241m.\u001b[39m_ensure_tensor_on_device(model_outputs, device\u001b[38;5;241m=\u001b[39mtorch\u001b[38;5;241m.\u001b[39mdevice(\u001b[38;5;124m\"\u001b[39m\u001b[38;5;124mcpu\u001b[39m\u001b[38;5;124m\"\u001b[39m))\n\u001b[1;32m   1373\u001b[0m \u001b[38;5;28;01melse\u001b[39;00m:\n",
      "File \u001b[0;32m/opt/conda/lib/python3.12/site-packages/transformers/pipelines/text_generation.py:414\u001b[0m, in \u001b[0;36mTextGenerationPipeline._forward\u001b[0;34m(self, model_inputs, **generate_kwargs)\u001b[0m\n\u001b[1;32m    411\u001b[0m \u001b[38;5;28;01mif\u001b[39;00m \u001b[38;5;124m\"\u001b[39m\u001b[38;5;124mgeneration_config\u001b[39m\u001b[38;5;124m\"\u001b[39m \u001b[38;5;129;01mnot\u001b[39;00m \u001b[38;5;129;01min\u001b[39;00m generate_kwargs:\n\u001b[1;32m    412\u001b[0m     generate_kwargs[\u001b[38;5;124m\"\u001b[39m\u001b[38;5;124mgeneration_config\u001b[39m\u001b[38;5;124m\"\u001b[39m] \u001b[38;5;241m=\u001b[39m \u001b[38;5;28mself\u001b[39m\u001b[38;5;241m.\u001b[39mgeneration_config\n\u001b[0;32m--> 414\u001b[0m output \u001b[38;5;241m=\u001b[39m \u001b[38;5;28;43mself\u001b[39;49m\u001b[38;5;241;43m.\u001b[39;49m\u001b[43mmodel\u001b[49m\u001b[38;5;241;43m.\u001b[39;49m\u001b[43mgenerate\u001b[49m\u001b[43m(\u001b[49m\u001b[43minput_ids\u001b[49m\u001b[38;5;241;43m=\u001b[39;49m\u001b[43minput_ids\u001b[49m\u001b[43m,\u001b[49m\u001b[43m \u001b[49m\u001b[43mattention_mask\u001b[49m\u001b[38;5;241;43m=\u001b[39;49m\u001b[43mattention_mask\u001b[49m\u001b[43m,\u001b[49m\u001b[43m \u001b[49m\u001b[38;5;241;43m*\u001b[39;49m\u001b[38;5;241;43m*\u001b[39;49m\u001b[43mgenerate_kwargs\u001b[49m\u001b[43m)\u001b[49m\n\u001b[1;32m    416\u001b[0m \u001b[38;5;28;01mif\u001b[39;00m \u001b[38;5;28misinstance\u001b[39m(output, ModelOutput):\n\u001b[1;32m    417\u001b[0m     generated_sequence \u001b[38;5;241m=\u001b[39m output\u001b[38;5;241m.\u001b[39msequences\n",
      "File \u001b[0;32m/opt/conda/lib/python3.12/site-packages/torch/utils/_contextlib.py:116\u001b[0m, in \u001b[0;36mcontext_decorator.<locals>.decorate_context\u001b[0;34m(*args, **kwargs)\u001b[0m\n\u001b[1;32m    113\u001b[0m \u001b[38;5;129m@functools\u001b[39m\u001b[38;5;241m.\u001b[39mwraps(func)\n\u001b[1;32m    114\u001b[0m \u001b[38;5;28;01mdef\u001b[39;00m\u001b[38;5;250m \u001b[39m\u001b[38;5;21mdecorate_context\u001b[39m(\u001b[38;5;241m*\u001b[39margs, \u001b[38;5;241m*\u001b[39m\u001b[38;5;241m*\u001b[39mkwargs):\n\u001b[1;32m    115\u001b[0m     \u001b[38;5;28;01mwith\u001b[39;00m ctx_factory():\n\u001b[0;32m--> 116\u001b[0m         \u001b[38;5;28;01mreturn\u001b[39;00m \u001b[43mfunc\u001b[49m\u001b[43m(\u001b[49m\u001b[38;5;241;43m*\u001b[39;49m\u001b[43margs\u001b[49m\u001b[43m,\u001b[49m\u001b[43m \u001b[49m\u001b[38;5;241;43m*\u001b[39;49m\u001b[38;5;241;43m*\u001b[39;49m\u001b[43mkwargs\u001b[49m\u001b[43m)\u001b[49m\n",
      "File \u001b[0;32m/opt/conda/lib/python3.12/site-packages/transformers/generation/utils.py:2625\u001b[0m, in \u001b[0;36mGenerationMixin.generate\u001b[0;34m(self, inputs, generation_config, logits_processor, stopping_criteria, prefix_allowed_tokens_fn, synced_gpus, assistant_model, streamer, negative_prompt_ids, negative_prompt_attention_mask, use_model_defaults, custom_generate, **kwargs)\u001b[0m\n\u001b[1;32m   2617\u001b[0m     input_ids, model_kwargs \u001b[38;5;241m=\u001b[39m \u001b[38;5;28mself\u001b[39m\u001b[38;5;241m.\u001b[39m_expand_inputs_for_generation(\n\u001b[1;32m   2618\u001b[0m         input_ids\u001b[38;5;241m=\u001b[39minput_ids,\n\u001b[1;32m   2619\u001b[0m         expand_size\u001b[38;5;241m=\u001b[39mgeneration_config\u001b[38;5;241m.\u001b[39mnum_return_sequences,\n\u001b[1;32m   2620\u001b[0m         is_encoder_decoder\u001b[38;5;241m=\u001b[39m\u001b[38;5;28mself\u001b[39m\u001b[38;5;241m.\u001b[39mconfig\u001b[38;5;241m.\u001b[39mis_encoder_decoder,\n\u001b[1;32m   2621\u001b[0m         \u001b[38;5;241m*\u001b[39m\u001b[38;5;241m*\u001b[39mmodel_kwargs,\n\u001b[1;32m   2622\u001b[0m     )\n\u001b[1;32m   2624\u001b[0m     \u001b[38;5;66;03m# 12. run sample (it degenerates to greedy search when `generation_config.do_sample=False`)\u001b[39;00m\n\u001b[0;32m-> 2625\u001b[0m     result \u001b[38;5;241m=\u001b[39m \u001b[38;5;28;43mself\u001b[39;49m\u001b[38;5;241;43m.\u001b[39;49m\u001b[43m_sample\u001b[49m\u001b[43m(\u001b[49m\n\u001b[1;32m   2626\u001b[0m \u001b[43m        \u001b[49m\u001b[43minput_ids\u001b[49m\u001b[43m,\u001b[49m\n\u001b[1;32m   2627\u001b[0m \u001b[43m        \u001b[49m\u001b[43mlogits_processor\u001b[49m\u001b[38;5;241;43m=\u001b[39;49m\u001b[43mprepared_logits_processor\u001b[49m\u001b[43m,\u001b[49m\n\u001b[1;32m   2628\u001b[0m \u001b[43m        \u001b[49m\u001b[43mstopping_criteria\u001b[49m\u001b[38;5;241;43m=\u001b[39;49m\u001b[43mprepared_stopping_criteria\u001b[49m\u001b[43m,\u001b[49m\n\u001b[1;32m   2629\u001b[0m \u001b[43m        \u001b[49m\u001b[43mgeneration_config\u001b[49m\u001b[38;5;241;43m=\u001b[39;49m\u001b[43mgeneration_config\u001b[49m\u001b[43m,\u001b[49m\n\u001b[1;32m   2630\u001b[0m \u001b[43m        \u001b[49m\u001b[43msynced_gpus\u001b[49m\u001b[38;5;241;43m=\u001b[39;49m\u001b[43msynced_gpus\u001b[49m\u001b[43m,\u001b[49m\n\u001b[1;32m   2631\u001b[0m \u001b[43m        \u001b[49m\u001b[43mstreamer\u001b[49m\u001b[38;5;241;43m=\u001b[39;49m\u001b[43mstreamer\u001b[49m\u001b[43m,\u001b[49m\n\u001b[1;32m   2632\u001b[0m \u001b[43m        \u001b[49m\u001b[38;5;241;43m*\u001b[39;49m\u001b[38;5;241;43m*\u001b[39;49m\u001b[43mmodel_kwargs\u001b[49m\u001b[43m,\u001b[49m\n\u001b[1;32m   2633\u001b[0m \u001b[43m    \u001b[49m\u001b[43m)\u001b[49m\n\u001b[1;32m   2635\u001b[0m \u001b[38;5;28;01melif\u001b[39;00m generation_mode \u001b[38;5;129;01min\u001b[39;00m (GenerationMode\u001b[38;5;241m.\u001b[39mBEAM_SAMPLE, GenerationMode\u001b[38;5;241m.\u001b[39mBEAM_SEARCH):\n\u001b[1;32m   2636\u001b[0m     \u001b[38;5;66;03m# 11. interleave input_ids with `num_beams` additional sequences per batch\u001b[39;00m\n\u001b[1;32m   2637\u001b[0m     input_ids, model_kwargs \u001b[38;5;241m=\u001b[39m \u001b[38;5;28mself\u001b[39m\u001b[38;5;241m.\u001b[39m_expand_inputs_for_generation(\n\u001b[1;32m   2638\u001b[0m         input_ids\u001b[38;5;241m=\u001b[39minput_ids,\n\u001b[1;32m   2639\u001b[0m         expand_size\u001b[38;5;241m=\u001b[39mgeneration_config\u001b[38;5;241m.\u001b[39mnum_beams,\n\u001b[1;32m   2640\u001b[0m         is_encoder_decoder\u001b[38;5;241m=\u001b[39m\u001b[38;5;28mself\u001b[39m\u001b[38;5;241m.\u001b[39mconfig\u001b[38;5;241m.\u001b[39mis_encoder_decoder,\n\u001b[1;32m   2641\u001b[0m         \u001b[38;5;241m*\u001b[39m\u001b[38;5;241m*\u001b[39mmodel_kwargs,\n\u001b[1;32m   2642\u001b[0m     )\n",
      "File \u001b[0;32m/opt/conda/lib/python3.12/site-packages/transformers/generation/utils.py:3609\u001b[0m, in \u001b[0;36mGenerationMixin._sample\u001b[0;34m(self, input_ids, logits_processor, stopping_criteria, generation_config, synced_gpus, streamer, **model_kwargs)\u001b[0m\n\u001b[1;32m   3607\u001b[0m     is_prefill \u001b[38;5;241m=\u001b[39m \u001b[38;5;28;01mFalse\u001b[39;00m\n\u001b[1;32m   3608\u001b[0m \u001b[38;5;28;01melse\u001b[39;00m:\n\u001b[0;32m-> 3609\u001b[0m     outputs \u001b[38;5;241m=\u001b[39m \u001b[43mmodel_forward\u001b[49m\u001b[43m(\u001b[49m\u001b[38;5;241;43m*\u001b[39;49m\u001b[38;5;241;43m*\u001b[39;49m\u001b[43mmodel_inputs\u001b[49m\u001b[43m,\u001b[49m\u001b[43m \u001b[49m\u001b[43mreturn_dict\u001b[49m\u001b[38;5;241;43m=\u001b[39;49m\u001b[38;5;28;43;01mTrue\u001b[39;49;00m\u001b[43m)\u001b[49m\n\u001b[1;32m   3611\u001b[0m \u001b[38;5;66;03m# synced_gpus: don't waste resources running the code we don't need; kwargs must be updated before skipping\u001b[39;00m\n\u001b[1;32m   3612\u001b[0m model_kwargs \u001b[38;5;241m=\u001b[39m \u001b[38;5;28mself\u001b[39m\u001b[38;5;241m.\u001b[39m_update_model_kwargs_for_generation(\n\u001b[1;32m   3613\u001b[0m     outputs,\n\u001b[1;32m   3614\u001b[0m     model_kwargs,\n\u001b[1;32m   3615\u001b[0m     is_encoder_decoder\u001b[38;5;241m=\u001b[39m\u001b[38;5;28mself\u001b[39m\u001b[38;5;241m.\u001b[39mconfig\u001b[38;5;241m.\u001b[39mis_encoder_decoder,\n\u001b[1;32m   3616\u001b[0m )\n",
      "File \u001b[0;32m/opt/conda/lib/python3.12/site-packages/torch/nn/modules/module.py:1739\u001b[0m, in \u001b[0;36mModule._wrapped_call_impl\u001b[0;34m(self, *args, **kwargs)\u001b[0m\n\u001b[1;32m   1737\u001b[0m     \u001b[38;5;28;01mreturn\u001b[39;00m \u001b[38;5;28mself\u001b[39m\u001b[38;5;241m.\u001b[39m_compiled_call_impl(\u001b[38;5;241m*\u001b[39margs, \u001b[38;5;241m*\u001b[39m\u001b[38;5;241m*\u001b[39mkwargs)  \u001b[38;5;66;03m# type: ignore[misc]\u001b[39;00m\n\u001b[1;32m   1738\u001b[0m \u001b[38;5;28;01melse\u001b[39;00m:\n\u001b[0;32m-> 1739\u001b[0m     \u001b[38;5;28;01mreturn\u001b[39;00m \u001b[38;5;28;43mself\u001b[39;49m\u001b[38;5;241;43m.\u001b[39;49m\u001b[43m_call_impl\u001b[49m\u001b[43m(\u001b[49m\u001b[38;5;241;43m*\u001b[39;49m\u001b[43margs\u001b[49m\u001b[43m,\u001b[49m\u001b[43m \u001b[49m\u001b[38;5;241;43m*\u001b[39;49m\u001b[38;5;241;43m*\u001b[39;49m\u001b[43mkwargs\u001b[49m\u001b[43m)\u001b[49m\n",
      "File \u001b[0;32m/opt/conda/lib/python3.12/site-packages/torch/nn/modules/module.py:1750\u001b[0m, in \u001b[0;36mModule._call_impl\u001b[0;34m(self, *args, **kwargs)\u001b[0m\n\u001b[1;32m   1745\u001b[0m \u001b[38;5;66;03m# If we don't have any hooks, we want to skip the rest of the logic in\u001b[39;00m\n\u001b[1;32m   1746\u001b[0m \u001b[38;5;66;03m# this function, and just call forward.\u001b[39;00m\n\u001b[1;32m   1747\u001b[0m \u001b[38;5;28;01mif\u001b[39;00m \u001b[38;5;129;01mnot\u001b[39;00m (\u001b[38;5;28mself\u001b[39m\u001b[38;5;241m.\u001b[39m_backward_hooks \u001b[38;5;129;01mor\u001b[39;00m \u001b[38;5;28mself\u001b[39m\u001b[38;5;241m.\u001b[39m_backward_pre_hooks \u001b[38;5;129;01mor\u001b[39;00m \u001b[38;5;28mself\u001b[39m\u001b[38;5;241m.\u001b[39m_forward_hooks \u001b[38;5;129;01mor\u001b[39;00m \u001b[38;5;28mself\u001b[39m\u001b[38;5;241m.\u001b[39m_forward_pre_hooks\n\u001b[1;32m   1748\u001b[0m         \u001b[38;5;129;01mor\u001b[39;00m _global_backward_pre_hooks \u001b[38;5;129;01mor\u001b[39;00m _global_backward_hooks\n\u001b[1;32m   1749\u001b[0m         \u001b[38;5;129;01mor\u001b[39;00m _global_forward_hooks \u001b[38;5;129;01mor\u001b[39;00m _global_forward_pre_hooks):\n\u001b[0;32m-> 1750\u001b[0m     \u001b[38;5;28;01mreturn\u001b[39;00m \u001b[43mforward_call\u001b[49m\u001b[43m(\u001b[49m\u001b[38;5;241;43m*\u001b[39;49m\u001b[43margs\u001b[49m\u001b[43m,\u001b[49m\u001b[43m \u001b[49m\u001b[38;5;241;43m*\u001b[39;49m\u001b[38;5;241;43m*\u001b[39;49m\u001b[43mkwargs\u001b[49m\u001b[43m)\u001b[49m\n\u001b[1;32m   1752\u001b[0m result \u001b[38;5;241m=\u001b[39m \u001b[38;5;28;01mNone\u001b[39;00m\n\u001b[1;32m   1753\u001b[0m called_always_called_hooks \u001b[38;5;241m=\u001b[39m \u001b[38;5;28mset\u001b[39m()\n",
      "File \u001b[0;32m/opt/conda/lib/python3.12/site-packages/accelerate/hooks.py:175\u001b[0m, in \u001b[0;36madd_hook_to_module.<locals>.new_forward\u001b[0;34m(module, *args, **kwargs)\u001b[0m\n\u001b[1;32m    173\u001b[0m         output \u001b[38;5;241m=\u001b[39m module\u001b[38;5;241m.\u001b[39m_old_forward(\u001b[38;5;241m*\u001b[39margs, \u001b[38;5;241m*\u001b[39m\u001b[38;5;241m*\u001b[39mkwargs)\n\u001b[1;32m    174\u001b[0m \u001b[38;5;28;01melse\u001b[39;00m:\n\u001b[0;32m--> 175\u001b[0m     output \u001b[38;5;241m=\u001b[39m \u001b[43mmodule\u001b[49m\u001b[38;5;241;43m.\u001b[39;49m\u001b[43m_old_forward\u001b[49m\u001b[43m(\u001b[49m\u001b[38;5;241;43m*\u001b[39;49m\u001b[43margs\u001b[49m\u001b[43m,\u001b[49m\u001b[43m \u001b[49m\u001b[38;5;241;43m*\u001b[39;49m\u001b[38;5;241;43m*\u001b[39;49m\u001b[43mkwargs\u001b[49m\u001b[43m)\u001b[49m\n\u001b[1;32m    176\u001b[0m \u001b[38;5;28;01mreturn\u001b[39;00m module\u001b[38;5;241m.\u001b[39m_hf_hook\u001b[38;5;241m.\u001b[39mpost_forward(module, output)\n",
      "File \u001b[0;32m/opt/conda/lib/python3.12/site-packages/transformers/utils/generic.py:943\u001b[0m, in \u001b[0;36mcan_return_tuple.<locals>.wrapper\u001b[0;34m(self, *args, **kwargs)\u001b[0m\n\u001b[1;32m    940\u001b[0m     set_attribute_for_modules(\u001b[38;5;28mself\u001b[39m, \u001b[38;5;124m\"\u001b[39m\u001b[38;5;124m_is_top_level_module\u001b[39m\u001b[38;5;124m\"\u001b[39m, \u001b[38;5;28;01mFalse\u001b[39;00m)\n\u001b[1;32m    942\u001b[0m \u001b[38;5;28;01mtry\u001b[39;00m:\n\u001b[0;32m--> 943\u001b[0m     output \u001b[38;5;241m=\u001b[39m \u001b[43mfunc\u001b[49m\u001b[43m(\u001b[49m\u001b[38;5;28;43mself\u001b[39;49m\u001b[43m,\u001b[49m\u001b[43m \u001b[49m\u001b[38;5;241;43m*\u001b[39;49m\u001b[43margs\u001b[49m\u001b[43m,\u001b[49m\u001b[43m \u001b[49m\u001b[38;5;241;43m*\u001b[39;49m\u001b[38;5;241;43m*\u001b[39;49m\u001b[43mkwargs\u001b[49m\u001b[43m)\u001b[49m\n\u001b[1;32m    944\u001b[0m     \u001b[38;5;28;01mif\u001b[39;00m is_requested_to_return_tuple \u001b[38;5;129;01mor\u001b[39;00m (is_configured_to_return_tuple \u001b[38;5;129;01mand\u001b[39;00m is_top_level_module):\n\u001b[1;32m    945\u001b[0m         output \u001b[38;5;241m=\u001b[39m output\u001b[38;5;241m.\u001b[39mto_tuple()\n",
      "File \u001b[0;32m/opt/conda/lib/python3.12/site-packages/transformers/models/mixtral/modeling_mixtral.py:748\u001b[0m, in \u001b[0;36mMixtralForCausalLM.forward\u001b[0;34m(self, input_ids, attention_mask, position_ids, past_key_values, inputs_embeds, labels, use_cache, output_attentions, output_hidden_states, output_router_logits, cache_position, logits_to_keep, **kwargs)\u001b[0m\n\u001b[1;32m    743\u001b[0m output_hidden_states \u001b[38;5;241m=\u001b[39m (\n\u001b[1;32m    744\u001b[0m     output_hidden_states \u001b[38;5;28;01mif\u001b[39;00m output_hidden_states \u001b[38;5;129;01mis\u001b[39;00m \u001b[38;5;129;01mnot\u001b[39;00m \u001b[38;5;28;01mNone\u001b[39;00m \u001b[38;5;28;01melse\u001b[39;00m \u001b[38;5;28mself\u001b[39m\u001b[38;5;241m.\u001b[39mconfig\u001b[38;5;241m.\u001b[39moutput_hidden_states\n\u001b[1;32m    745\u001b[0m )\n\u001b[1;32m    747\u001b[0m \u001b[38;5;66;03m# decoder outputs consists of (dec_features, layer_state, dec_hidden, dec_attn)\u001b[39;00m\n\u001b[0;32m--> 748\u001b[0m outputs: MoeModelOutputWithPast \u001b[38;5;241m=\u001b[39m \u001b[38;5;28;43mself\u001b[39;49m\u001b[38;5;241;43m.\u001b[39;49m\u001b[43mmodel\u001b[49m\u001b[43m(\u001b[49m\n\u001b[1;32m    749\u001b[0m \u001b[43m    \u001b[49m\u001b[43minput_ids\u001b[49m\u001b[38;5;241;43m=\u001b[39;49m\u001b[43minput_ids\u001b[49m\u001b[43m,\u001b[49m\n\u001b[1;32m    750\u001b[0m \u001b[43m    \u001b[49m\u001b[43mattention_mask\u001b[49m\u001b[38;5;241;43m=\u001b[39;49m\u001b[43mattention_mask\u001b[49m\u001b[43m,\u001b[49m\n\u001b[1;32m    751\u001b[0m \u001b[43m    \u001b[49m\u001b[43mposition_ids\u001b[49m\u001b[38;5;241;43m=\u001b[39;49m\u001b[43mposition_ids\u001b[49m\u001b[43m,\u001b[49m\n\u001b[1;32m    752\u001b[0m \u001b[43m    \u001b[49m\u001b[43mpast_key_values\u001b[49m\u001b[38;5;241;43m=\u001b[39;49m\u001b[43mpast_key_values\u001b[49m\u001b[43m,\u001b[49m\n\u001b[1;32m    753\u001b[0m \u001b[43m    \u001b[49m\u001b[43minputs_embeds\u001b[49m\u001b[38;5;241;43m=\u001b[39;49m\u001b[43minputs_embeds\u001b[49m\u001b[43m,\u001b[49m\n\u001b[1;32m    754\u001b[0m \u001b[43m    \u001b[49m\u001b[43muse_cache\u001b[49m\u001b[38;5;241;43m=\u001b[39;49m\u001b[43muse_cache\u001b[49m\u001b[43m,\u001b[49m\n\u001b[1;32m    755\u001b[0m \u001b[43m    \u001b[49m\u001b[43moutput_attentions\u001b[49m\u001b[38;5;241;43m=\u001b[39;49m\u001b[43moutput_attentions\u001b[49m\u001b[43m,\u001b[49m\n\u001b[1;32m    756\u001b[0m \u001b[43m    \u001b[49m\u001b[43moutput_hidden_states\u001b[49m\u001b[38;5;241;43m=\u001b[39;49m\u001b[43moutput_hidden_states\u001b[49m\u001b[43m,\u001b[49m\n\u001b[1;32m    757\u001b[0m \u001b[43m    \u001b[49m\u001b[43moutput_router_logits\u001b[49m\u001b[38;5;241;43m=\u001b[39;49m\u001b[43moutput_router_logits\u001b[49m\u001b[43m,\u001b[49m\n\u001b[1;32m    758\u001b[0m \u001b[43m    \u001b[49m\u001b[43mcache_position\u001b[49m\u001b[38;5;241;43m=\u001b[39;49m\u001b[43mcache_position\u001b[49m\u001b[43m,\u001b[49m\n\u001b[1;32m    759\u001b[0m \u001b[43m    \u001b[49m\u001b[38;5;241;43m*\u001b[39;49m\u001b[38;5;241;43m*\u001b[39;49m\u001b[43mkwargs\u001b[49m\u001b[43m,\u001b[49m\n\u001b[1;32m    760\u001b[0m \u001b[43m\u001b[49m\u001b[43m)\u001b[49m\n\u001b[1;32m    762\u001b[0m hidden_states \u001b[38;5;241m=\u001b[39m outputs\u001b[38;5;241m.\u001b[39mlast_hidden_state\n\u001b[1;32m    763\u001b[0m \u001b[38;5;66;03m# Only compute necessary logits, and do not upcast them to float if we are not computing the loss\u001b[39;00m\n",
      "File \u001b[0;32m/opt/conda/lib/python3.12/site-packages/torch/nn/modules/module.py:1739\u001b[0m, in \u001b[0;36mModule._wrapped_call_impl\u001b[0;34m(self, *args, **kwargs)\u001b[0m\n\u001b[1;32m   1737\u001b[0m     \u001b[38;5;28;01mreturn\u001b[39;00m \u001b[38;5;28mself\u001b[39m\u001b[38;5;241m.\u001b[39m_compiled_call_impl(\u001b[38;5;241m*\u001b[39margs, \u001b[38;5;241m*\u001b[39m\u001b[38;5;241m*\u001b[39mkwargs)  \u001b[38;5;66;03m# type: ignore[misc]\u001b[39;00m\n\u001b[1;32m   1738\u001b[0m \u001b[38;5;28;01melse\u001b[39;00m:\n\u001b[0;32m-> 1739\u001b[0m     \u001b[38;5;28;01mreturn\u001b[39;00m \u001b[38;5;28;43mself\u001b[39;49m\u001b[38;5;241;43m.\u001b[39;49m\u001b[43m_call_impl\u001b[49m\u001b[43m(\u001b[49m\u001b[38;5;241;43m*\u001b[39;49m\u001b[43margs\u001b[49m\u001b[43m,\u001b[49m\u001b[43m \u001b[49m\u001b[38;5;241;43m*\u001b[39;49m\u001b[38;5;241;43m*\u001b[39;49m\u001b[43mkwargs\u001b[49m\u001b[43m)\u001b[49m\n",
      "File \u001b[0;32m/opt/conda/lib/python3.12/site-packages/torch/nn/modules/module.py:1750\u001b[0m, in \u001b[0;36mModule._call_impl\u001b[0;34m(self, *args, **kwargs)\u001b[0m\n\u001b[1;32m   1745\u001b[0m \u001b[38;5;66;03m# If we don't have any hooks, we want to skip the rest of the logic in\u001b[39;00m\n\u001b[1;32m   1746\u001b[0m \u001b[38;5;66;03m# this function, and just call forward.\u001b[39;00m\n\u001b[1;32m   1747\u001b[0m \u001b[38;5;28;01mif\u001b[39;00m \u001b[38;5;129;01mnot\u001b[39;00m (\u001b[38;5;28mself\u001b[39m\u001b[38;5;241m.\u001b[39m_backward_hooks \u001b[38;5;129;01mor\u001b[39;00m \u001b[38;5;28mself\u001b[39m\u001b[38;5;241m.\u001b[39m_backward_pre_hooks \u001b[38;5;129;01mor\u001b[39;00m \u001b[38;5;28mself\u001b[39m\u001b[38;5;241m.\u001b[39m_forward_hooks \u001b[38;5;129;01mor\u001b[39;00m \u001b[38;5;28mself\u001b[39m\u001b[38;5;241m.\u001b[39m_forward_pre_hooks\n\u001b[1;32m   1748\u001b[0m         \u001b[38;5;129;01mor\u001b[39;00m _global_backward_pre_hooks \u001b[38;5;129;01mor\u001b[39;00m _global_backward_hooks\n\u001b[1;32m   1749\u001b[0m         \u001b[38;5;129;01mor\u001b[39;00m _global_forward_hooks \u001b[38;5;129;01mor\u001b[39;00m _global_forward_pre_hooks):\n\u001b[0;32m-> 1750\u001b[0m     \u001b[38;5;28;01mreturn\u001b[39;00m \u001b[43mforward_call\u001b[49m\u001b[43m(\u001b[49m\u001b[38;5;241;43m*\u001b[39;49m\u001b[43margs\u001b[49m\u001b[43m,\u001b[49m\u001b[43m \u001b[49m\u001b[38;5;241;43m*\u001b[39;49m\u001b[38;5;241;43m*\u001b[39;49m\u001b[43mkwargs\u001b[49m\u001b[43m)\u001b[49m\n\u001b[1;32m   1752\u001b[0m result \u001b[38;5;241m=\u001b[39m \u001b[38;5;28;01mNone\u001b[39;00m\n\u001b[1;32m   1753\u001b[0m called_always_called_hooks \u001b[38;5;241m=\u001b[39m \u001b[38;5;28mset\u001b[39m()\n",
      "File \u001b[0;32m/opt/conda/lib/python3.12/site-packages/transformers/utils/generic.py:943\u001b[0m, in \u001b[0;36mcan_return_tuple.<locals>.wrapper\u001b[0;34m(self, *args, **kwargs)\u001b[0m\n\u001b[1;32m    940\u001b[0m     set_attribute_for_modules(\u001b[38;5;28mself\u001b[39m, \u001b[38;5;124m\"\u001b[39m\u001b[38;5;124m_is_top_level_module\u001b[39m\u001b[38;5;124m\"\u001b[39m, \u001b[38;5;28;01mFalse\u001b[39;00m)\n\u001b[1;32m    942\u001b[0m \u001b[38;5;28;01mtry\u001b[39;00m:\n\u001b[0;32m--> 943\u001b[0m     output \u001b[38;5;241m=\u001b[39m \u001b[43mfunc\u001b[49m\u001b[43m(\u001b[49m\u001b[38;5;28;43mself\u001b[39;49m\u001b[43m,\u001b[49m\u001b[43m \u001b[49m\u001b[38;5;241;43m*\u001b[39;49m\u001b[43margs\u001b[49m\u001b[43m,\u001b[49m\u001b[43m \u001b[49m\u001b[38;5;241;43m*\u001b[39;49m\u001b[38;5;241;43m*\u001b[39;49m\u001b[43mkwargs\u001b[49m\u001b[43m)\u001b[49m\n\u001b[1;32m    944\u001b[0m     \u001b[38;5;28;01mif\u001b[39;00m is_requested_to_return_tuple \u001b[38;5;129;01mor\u001b[39;00m (is_configured_to_return_tuple \u001b[38;5;129;01mand\u001b[39;00m is_top_level_module):\n\u001b[1;32m    945\u001b[0m         output \u001b[38;5;241m=\u001b[39m output\u001b[38;5;241m.\u001b[39mto_tuple()\n",
      "File \u001b[0;32m/opt/conda/lib/python3.12/site-packages/transformers/models/mixtral/modeling_mixtral.py:540\u001b[0m, in \u001b[0;36mMixtralModel.forward\u001b[0;34m(self, input_ids, attention_mask, position_ids, past_key_values, inputs_embeds, use_cache, output_attentions, output_hidden_states, output_router_logits, cache_position, **flash_attn_kwargs)\u001b[0m\n\u001b[1;32m    537\u001b[0m \u001b[38;5;28;01mif\u001b[39;00m output_hidden_states:\n\u001b[1;32m    538\u001b[0m     all_hidden_states \u001b[38;5;241m+\u001b[39m\u001b[38;5;241m=\u001b[39m (hidden_states,)\n\u001b[0;32m--> 540\u001b[0m layer_outputs \u001b[38;5;241m=\u001b[39m \u001b[43mdecoder_layer\u001b[49m\u001b[43m(\u001b[49m\n\u001b[1;32m    541\u001b[0m \u001b[43m    \u001b[49m\u001b[43mhidden_states\u001b[49m\u001b[43m,\u001b[49m\n\u001b[1;32m    542\u001b[0m \u001b[43m    \u001b[49m\u001b[43mattention_mask\u001b[49m\u001b[38;5;241;43m=\u001b[39;49m\u001b[43mcausal_mask\u001b[49m\u001b[43m,\u001b[49m\n\u001b[1;32m    543\u001b[0m \u001b[43m    \u001b[49m\u001b[43mposition_ids\u001b[49m\u001b[38;5;241;43m=\u001b[39;49m\u001b[43mposition_ids\u001b[49m\u001b[43m,\u001b[49m\n\u001b[1;32m    544\u001b[0m \u001b[43m    \u001b[49m\u001b[43mpast_key_value\u001b[49m\u001b[38;5;241;43m=\u001b[39;49m\u001b[43mpast_key_values\u001b[49m\u001b[43m,\u001b[49m\n\u001b[1;32m    545\u001b[0m \u001b[43m    \u001b[49m\u001b[43moutput_attentions\u001b[49m\u001b[38;5;241;43m=\u001b[39;49m\u001b[43moutput_attentions\u001b[49m\u001b[43m,\u001b[49m\n\u001b[1;32m    546\u001b[0m \u001b[43m    \u001b[49m\u001b[43moutput_router_logits\u001b[49m\u001b[38;5;241;43m=\u001b[39;49m\u001b[43moutput_router_logits\u001b[49m\u001b[43m,\u001b[49m\n\u001b[1;32m    547\u001b[0m \u001b[43m    \u001b[49m\u001b[43muse_cache\u001b[49m\u001b[38;5;241;43m=\u001b[39;49m\u001b[43muse_cache\u001b[49m\u001b[43m,\u001b[49m\n\u001b[1;32m    548\u001b[0m \u001b[43m    \u001b[49m\u001b[43mcache_position\u001b[49m\u001b[38;5;241;43m=\u001b[39;49m\u001b[43mcache_position\u001b[49m\u001b[43m,\u001b[49m\n\u001b[1;32m    549\u001b[0m \u001b[43m    \u001b[49m\u001b[43mposition_embeddings\u001b[49m\u001b[38;5;241;43m=\u001b[39;49m\u001b[43mposition_embeddings\u001b[49m\u001b[43m,\u001b[49m\n\u001b[1;32m    550\u001b[0m \u001b[43m    \u001b[49m\u001b[38;5;241;43m*\u001b[39;49m\u001b[38;5;241;43m*\u001b[39;49m\u001b[43mflash_attn_kwargs\u001b[49m\u001b[43m,\u001b[49m\n\u001b[1;32m    551\u001b[0m \u001b[43m\u001b[49m\u001b[43m)\u001b[49m\n\u001b[1;32m    553\u001b[0m hidden_states \u001b[38;5;241m=\u001b[39m layer_outputs[\u001b[38;5;241m0\u001b[39m]\n\u001b[1;32m    555\u001b[0m \u001b[38;5;28;01mif\u001b[39;00m output_attentions:\n",
      "File \u001b[0;32m/opt/conda/lib/python3.12/site-packages/transformers/modeling_layers.py:83\u001b[0m, in \u001b[0;36mGradientCheckpointingLayer.__call__\u001b[0;34m(self, *args, **kwargs)\u001b[0m\n\u001b[1;32m     80\u001b[0m         logger\u001b[38;5;241m.\u001b[39mwarning(message)\n\u001b[1;32m     82\u001b[0m     \u001b[38;5;28;01mreturn\u001b[39;00m \u001b[38;5;28mself\u001b[39m\u001b[38;5;241m.\u001b[39m_gradient_checkpointing_func(partial(\u001b[38;5;28msuper\u001b[39m()\u001b[38;5;241m.\u001b[39m\u001b[38;5;21m__call__\u001b[39m, \u001b[38;5;241m*\u001b[39m\u001b[38;5;241m*\u001b[39mkwargs), \u001b[38;5;241m*\u001b[39margs)\n\u001b[0;32m---> 83\u001b[0m \u001b[38;5;28;01mreturn\u001b[39;00m \u001b[38;5;28;43msuper\u001b[39;49m\u001b[43m(\u001b[49m\u001b[43m)\u001b[49m\u001b[38;5;241;43m.\u001b[39;49m\u001b[38;5;21;43m__call__\u001b[39;49m\u001b[43m(\u001b[49m\u001b[38;5;241;43m*\u001b[39;49m\u001b[43margs\u001b[49m\u001b[43m,\u001b[49m\u001b[43m \u001b[49m\u001b[38;5;241;43m*\u001b[39;49m\u001b[38;5;241;43m*\u001b[39;49m\u001b[43mkwargs\u001b[49m\u001b[43m)\u001b[49m\n",
      "File \u001b[0;32m/opt/conda/lib/python3.12/site-packages/torch/nn/modules/module.py:1739\u001b[0m, in \u001b[0;36mModule._wrapped_call_impl\u001b[0;34m(self, *args, **kwargs)\u001b[0m\n\u001b[1;32m   1737\u001b[0m     \u001b[38;5;28;01mreturn\u001b[39;00m \u001b[38;5;28mself\u001b[39m\u001b[38;5;241m.\u001b[39m_compiled_call_impl(\u001b[38;5;241m*\u001b[39margs, \u001b[38;5;241m*\u001b[39m\u001b[38;5;241m*\u001b[39mkwargs)  \u001b[38;5;66;03m# type: ignore[misc]\u001b[39;00m\n\u001b[1;32m   1738\u001b[0m \u001b[38;5;28;01melse\u001b[39;00m:\n\u001b[0;32m-> 1739\u001b[0m     \u001b[38;5;28;01mreturn\u001b[39;00m \u001b[38;5;28;43mself\u001b[39;49m\u001b[38;5;241;43m.\u001b[39;49m\u001b[43m_call_impl\u001b[49m\u001b[43m(\u001b[49m\u001b[38;5;241;43m*\u001b[39;49m\u001b[43margs\u001b[49m\u001b[43m,\u001b[49m\u001b[43m \u001b[49m\u001b[38;5;241;43m*\u001b[39;49m\u001b[38;5;241;43m*\u001b[39;49m\u001b[43mkwargs\u001b[49m\u001b[43m)\u001b[49m\n",
      "File \u001b[0;32m/opt/conda/lib/python3.12/site-packages/torch/nn/modules/module.py:1750\u001b[0m, in \u001b[0;36mModule._call_impl\u001b[0;34m(self, *args, **kwargs)\u001b[0m\n\u001b[1;32m   1745\u001b[0m \u001b[38;5;66;03m# If we don't have any hooks, we want to skip the rest of the logic in\u001b[39;00m\n\u001b[1;32m   1746\u001b[0m \u001b[38;5;66;03m# this function, and just call forward.\u001b[39;00m\n\u001b[1;32m   1747\u001b[0m \u001b[38;5;28;01mif\u001b[39;00m \u001b[38;5;129;01mnot\u001b[39;00m (\u001b[38;5;28mself\u001b[39m\u001b[38;5;241m.\u001b[39m_backward_hooks \u001b[38;5;129;01mor\u001b[39;00m \u001b[38;5;28mself\u001b[39m\u001b[38;5;241m.\u001b[39m_backward_pre_hooks \u001b[38;5;129;01mor\u001b[39;00m \u001b[38;5;28mself\u001b[39m\u001b[38;5;241m.\u001b[39m_forward_hooks \u001b[38;5;129;01mor\u001b[39;00m \u001b[38;5;28mself\u001b[39m\u001b[38;5;241m.\u001b[39m_forward_pre_hooks\n\u001b[1;32m   1748\u001b[0m         \u001b[38;5;129;01mor\u001b[39;00m _global_backward_pre_hooks \u001b[38;5;129;01mor\u001b[39;00m _global_backward_hooks\n\u001b[1;32m   1749\u001b[0m         \u001b[38;5;129;01mor\u001b[39;00m _global_forward_hooks \u001b[38;5;129;01mor\u001b[39;00m _global_forward_pre_hooks):\n\u001b[0;32m-> 1750\u001b[0m     \u001b[38;5;28;01mreturn\u001b[39;00m \u001b[43mforward_call\u001b[49m\u001b[43m(\u001b[49m\u001b[38;5;241;43m*\u001b[39;49m\u001b[43margs\u001b[49m\u001b[43m,\u001b[49m\u001b[43m \u001b[49m\u001b[38;5;241;43m*\u001b[39;49m\u001b[38;5;241;43m*\u001b[39;49m\u001b[43mkwargs\u001b[49m\u001b[43m)\u001b[49m\n\u001b[1;32m   1752\u001b[0m result \u001b[38;5;241m=\u001b[39m \u001b[38;5;28;01mNone\u001b[39;00m\n\u001b[1;32m   1753\u001b[0m called_always_called_hooks \u001b[38;5;241m=\u001b[39m \u001b[38;5;28mset\u001b[39m()\n",
      "File \u001b[0;32m/opt/conda/lib/python3.12/site-packages/accelerate/hooks.py:175\u001b[0m, in \u001b[0;36madd_hook_to_module.<locals>.new_forward\u001b[0;34m(module, *args, **kwargs)\u001b[0m\n\u001b[1;32m    173\u001b[0m         output \u001b[38;5;241m=\u001b[39m module\u001b[38;5;241m.\u001b[39m_old_forward(\u001b[38;5;241m*\u001b[39margs, \u001b[38;5;241m*\u001b[39m\u001b[38;5;241m*\u001b[39mkwargs)\n\u001b[1;32m    174\u001b[0m \u001b[38;5;28;01melse\u001b[39;00m:\n\u001b[0;32m--> 175\u001b[0m     output \u001b[38;5;241m=\u001b[39m \u001b[43mmodule\u001b[49m\u001b[38;5;241;43m.\u001b[39;49m\u001b[43m_old_forward\u001b[49m\u001b[43m(\u001b[49m\u001b[38;5;241;43m*\u001b[39;49m\u001b[43margs\u001b[49m\u001b[43m,\u001b[49m\u001b[43m \u001b[49m\u001b[38;5;241;43m*\u001b[39;49m\u001b[38;5;241;43m*\u001b[39;49m\u001b[43mkwargs\u001b[49m\u001b[43m)\u001b[49m\n\u001b[1;32m    176\u001b[0m \u001b[38;5;28;01mreturn\u001b[39;00m module\u001b[38;5;241m.\u001b[39m_hf_hook\u001b[38;5;241m.\u001b[39mpost_forward(module, output)\n",
      "File \u001b[0;32m/opt/conda/lib/python3.12/site-packages/transformers/models/mixtral/modeling_mixtral.py:349\u001b[0m, in \u001b[0;36mMixtralDecoderLayer.forward\u001b[0;34m(self, hidden_states, attention_mask, position_ids, past_key_value, output_attentions, output_router_logits, use_cache, cache_position, position_embeddings, **kwargs)\u001b[0m\n\u001b[1;32m    346\u001b[0m hidden_states \u001b[38;5;241m=\u001b[39m \u001b[38;5;28mself\u001b[39m\u001b[38;5;241m.\u001b[39minput_layernorm(hidden_states)\n\u001b[1;32m    348\u001b[0m \u001b[38;5;66;03m# Self Attention\u001b[39;00m\n\u001b[0;32m--> 349\u001b[0m hidden_states, self_attn_weights \u001b[38;5;241m=\u001b[39m \u001b[38;5;28;43mself\u001b[39;49m\u001b[38;5;241;43m.\u001b[39;49m\u001b[43mself_attn\u001b[49m\u001b[43m(\u001b[49m\n\u001b[1;32m    350\u001b[0m \u001b[43m    \u001b[49m\u001b[43mhidden_states\u001b[49m\u001b[38;5;241;43m=\u001b[39;49m\u001b[43mhidden_states\u001b[49m\u001b[43m,\u001b[49m\n\u001b[1;32m    351\u001b[0m \u001b[43m    \u001b[49m\u001b[43mposition_embeddings\u001b[49m\u001b[38;5;241;43m=\u001b[39;49m\u001b[43mposition_embeddings\u001b[49m\u001b[43m,\u001b[49m\n\u001b[1;32m    352\u001b[0m \u001b[43m    \u001b[49m\u001b[43mattention_mask\u001b[49m\u001b[38;5;241;43m=\u001b[39;49m\u001b[43mattention_mask\u001b[49m\u001b[43m,\u001b[49m\n\u001b[1;32m    353\u001b[0m \u001b[43m    \u001b[49m\u001b[43mposition_ids\u001b[49m\u001b[38;5;241;43m=\u001b[39;49m\u001b[43mposition_ids\u001b[49m\u001b[43m,\u001b[49m\n\u001b[1;32m    354\u001b[0m \u001b[43m    \u001b[49m\u001b[43mpast_key_value\u001b[49m\u001b[38;5;241;43m=\u001b[39;49m\u001b[43mpast_key_value\u001b[49m\u001b[43m,\u001b[49m\n\u001b[1;32m    355\u001b[0m \u001b[43m    \u001b[49m\u001b[43moutput_attentions\u001b[49m\u001b[38;5;241;43m=\u001b[39;49m\u001b[43moutput_attentions\u001b[49m\u001b[43m,\u001b[49m\n\u001b[1;32m    356\u001b[0m \u001b[43m    \u001b[49m\u001b[43muse_cache\u001b[49m\u001b[38;5;241;43m=\u001b[39;49m\u001b[43muse_cache\u001b[49m\u001b[43m,\u001b[49m\n\u001b[1;32m    357\u001b[0m \u001b[43m    \u001b[49m\u001b[43mcache_position\u001b[49m\u001b[38;5;241;43m=\u001b[39;49m\u001b[43mcache_position\u001b[49m\u001b[43m,\u001b[49m\n\u001b[1;32m    358\u001b[0m \u001b[43m    \u001b[49m\u001b[38;5;241;43m*\u001b[39;49m\u001b[38;5;241;43m*\u001b[39;49m\u001b[43mkwargs\u001b[49m\u001b[43m,\u001b[49m\n\u001b[1;32m    359\u001b[0m \u001b[43m\u001b[49m\u001b[43m)\u001b[49m\n\u001b[1;32m    360\u001b[0m hidden_states \u001b[38;5;241m=\u001b[39m residual \u001b[38;5;241m+\u001b[39m hidden_states\n\u001b[1;32m    362\u001b[0m \u001b[38;5;66;03m# Fully Connected\u001b[39;00m\n",
      "File \u001b[0;32m/opt/conda/lib/python3.12/site-packages/torch/nn/modules/module.py:1739\u001b[0m, in \u001b[0;36mModule._wrapped_call_impl\u001b[0;34m(self, *args, **kwargs)\u001b[0m\n\u001b[1;32m   1737\u001b[0m     \u001b[38;5;28;01mreturn\u001b[39;00m \u001b[38;5;28mself\u001b[39m\u001b[38;5;241m.\u001b[39m_compiled_call_impl(\u001b[38;5;241m*\u001b[39margs, \u001b[38;5;241m*\u001b[39m\u001b[38;5;241m*\u001b[39mkwargs)  \u001b[38;5;66;03m# type: ignore[misc]\u001b[39;00m\n\u001b[1;32m   1738\u001b[0m \u001b[38;5;28;01melse\u001b[39;00m:\n\u001b[0;32m-> 1739\u001b[0m     \u001b[38;5;28;01mreturn\u001b[39;00m \u001b[38;5;28;43mself\u001b[39;49m\u001b[38;5;241;43m.\u001b[39;49m\u001b[43m_call_impl\u001b[49m\u001b[43m(\u001b[49m\u001b[38;5;241;43m*\u001b[39;49m\u001b[43margs\u001b[49m\u001b[43m,\u001b[49m\u001b[43m \u001b[49m\u001b[38;5;241;43m*\u001b[39;49m\u001b[38;5;241;43m*\u001b[39;49m\u001b[43mkwargs\u001b[49m\u001b[43m)\u001b[49m\n",
      "File \u001b[0;32m/opt/conda/lib/python3.12/site-packages/torch/nn/modules/module.py:1750\u001b[0m, in \u001b[0;36mModule._call_impl\u001b[0;34m(self, *args, **kwargs)\u001b[0m\n\u001b[1;32m   1745\u001b[0m \u001b[38;5;66;03m# If we don't have any hooks, we want to skip the rest of the logic in\u001b[39;00m\n\u001b[1;32m   1746\u001b[0m \u001b[38;5;66;03m# this function, and just call forward.\u001b[39;00m\n\u001b[1;32m   1747\u001b[0m \u001b[38;5;28;01mif\u001b[39;00m \u001b[38;5;129;01mnot\u001b[39;00m (\u001b[38;5;28mself\u001b[39m\u001b[38;5;241m.\u001b[39m_backward_hooks \u001b[38;5;129;01mor\u001b[39;00m \u001b[38;5;28mself\u001b[39m\u001b[38;5;241m.\u001b[39m_backward_pre_hooks \u001b[38;5;129;01mor\u001b[39;00m \u001b[38;5;28mself\u001b[39m\u001b[38;5;241m.\u001b[39m_forward_hooks \u001b[38;5;129;01mor\u001b[39;00m \u001b[38;5;28mself\u001b[39m\u001b[38;5;241m.\u001b[39m_forward_pre_hooks\n\u001b[1;32m   1748\u001b[0m         \u001b[38;5;129;01mor\u001b[39;00m _global_backward_pre_hooks \u001b[38;5;129;01mor\u001b[39;00m _global_backward_hooks\n\u001b[1;32m   1749\u001b[0m         \u001b[38;5;129;01mor\u001b[39;00m _global_forward_hooks \u001b[38;5;129;01mor\u001b[39;00m _global_forward_pre_hooks):\n\u001b[0;32m-> 1750\u001b[0m     \u001b[38;5;28;01mreturn\u001b[39;00m \u001b[43mforward_call\u001b[49m\u001b[43m(\u001b[49m\u001b[38;5;241;43m*\u001b[39;49m\u001b[43margs\u001b[49m\u001b[43m,\u001b[49m\u001b[43m \u001b[49m\u001b[38;5;241;43m*\u001b[39;49m\u001b[38;5;241;43m*\u001b[39;49m\u001b[43mkwargs\u001b[49m\u001b[43m)\u001b[49m\n\u001b[1;32m   1752\u001b[0m result \u001b[38;5;241m=\u001b[39m \u001b[38;5;28;01mNone\u001b[39;00m\n\u001b[1;32m   1753\u001b[0m called_always_called_hooks \u001b[38;5;241m=\u001b[39m \u001b[38;5;28mset\u001b[39m()\n",
      "File \u001b[0;32m/opt/conda/lib/python3.12/site-packages/accelerate/hooks.py:175\u001b[0m, in \u001b[0;36madd_hook_to_module.<locals>.new_forward\u001b[0;34m(module, *args, **kwargs)\u001b[0m\n\u001b[1;32m    173\u001b[0m         output \u001b[38;5;241m=\u001b[39m module\u001b[38;5;241m.\u001b[39m_old_forward(\u001b[38;5;241m*\u001b[39margs, \u001b[38;5;241m*\u001b[39m\u001b[38;5;241m*\u001b[39mkwargs)\n\u001b[1;32m    174\u001b[0m \u001b[38;5;28;01melse\u001b[39;00m:\n\u001b[0;32m--> 175\u001b[0m     output \u001b[38;5;241m=\u001b[39m \u001b[43mmodule\u001b[49m\u001b[38;5;241;43m.\u001b[39;49m\u001b[43m_old_forward\u001b[49m\u001b[43m(\u001b[49m\u001b[38;5;241;43m*\u001b[39;49m\u001b[43margs\u001b[49m\u001b[43m,\u001b[49m\u001b[43m \u001b[49m\u001b[38;5;241;43m*\u001b[39;49m\u001b[38;5;241;43m*\u001b[39;49m\u001b[43mkwargs\u001b[49m\u001b[43m)\u001b[49m\n\u001b[1;32m    176\u001b[0m \u001b[38;5;28;01mreturn\u001b[39;00m module\u001b[38;5;241m.\u001b[39m_hf_hook\u001b[38;5;241m.\u001b[39mpost_forward(module, output)\n",
      "File \u001b[0;32m/opt/conda/lib/python3.12/site-packages/transformers/models/mixtral/modeling_mixtral.py:293\u001b[0m, in \u001b[0;36mMixtralAttention.forward\u001b[0;34m(self, hidden_states, position_embeddings, attention_mask, past_key_value, cache_position, **kwargs)\u001b[0m\n\u001b[1;32m    279\u001b[0m     attention_interface \u001b[38;5;241m=\u001b[39m ALL_ATTENTION_FUNCTIONS[\u001b[38;5;28mself\u001b[39m\u001b[38;5;241m.\u001b[39mconfig\u001b[38;5;241m.\u001b[39m_attn_implementation]\n\u001b[1;32m    281\u001b[0m attn_output, attn_weights \u001b[38;5;241m=\u001b[39m attention_interface(\n\u001b[1;32m    282\u001b[0m     \u001b[38;5;28mself\u001b[39m,\n\u001b[1;32m    283\u001b[0m     query_states,\n\u001b[0;32m   (...)\u001b[0m\n\u001b[1;32m    290\u001b[0m     \u001b[38;5;241m*\u001b[39m\u001b[38;5;241m*\u001b[39mkwargs,\n\u001b[1;32m    291\u001b[0m )\n\u001b[0;32m--> 293\u001b[0m attn_output \u001b[38;5;241m=\u001b[39m \u001b[43mattn_output\u001b[49m\u001b[38;5;241;43m.\u001b[39;49m\u001b[43mreshape\u001b[49m\u001b[43m(\u001b[49m\u001b[38;5;241;43m*\u001b[39;49m\u001b[43minput_shape\u001b[49m\u001b[43m,\u001b[49m\u001b[43m \u001b[49m\u001b[38;5;241;43m-\u001b[39;49m\u001b[38;5;241;43m1\u001b[39;49m\u001b[43m)\u001b[49m\u001b[38;5;241m.\u001b[39mcontiguous()\n\u001b[1;32m    294\u001b[0m attn_output \u001b[38;5;241m=\u001b[39m \u001b[38;5;28mself\u001b[39m\u001b[38;5;241m.\u001b[39mo_proj(attn_output)\n\u001b[1;32m    295\u001b[0m \u001b[38;5;28;01mreturn\u001b[39;00m attn_output, attn_weights\n",
      "\u001b[0;31mKeyboardInterrupt\u001b[0m: "
     ]
    }
   ],
   "source": [
    "\n",
    "pdf_path = \"CV_Achraf_HT_Directeur et Chef de projet IT_2025.pdf\"\n",
    "\n",
    "\n",
    "cv_text1 = extract_text_from_pdf(pdf_path)\n",
    "prompt = build_prompt_position(cv_text)\n",
    "\n",
    "output = pope(prompt)[0][\"generated_text\"]\n",
    "print(output)\n"
   ]
  },
  {
   "cell_type": "code",
   "execution_count": null,
   "id": "f0231e2d-d450-4609-94bf-dacee955e958",
   "metadata": {},
   "outputs": [],
   "source": []
  }
 ],
 "metadata": {
  "kernelspec": {
   "display_name": "Python 3 (ipykernel)",
   "language": "python",
   "name": "python3"
  },
  "language_info": {
   "codemirror_mode": {
    "name": "ipython",
    "version": 3
   },
   "file_extension": ".py",
   "mimetype": "text/x-python",
   "name": "python",
   "nbconvert_exporter": "python",
   "pygments_lexer": "ipython3",
   "version": "3.12.9"
  }
 },
 "nbformat": 4,
 "nbformat_minor": 5
}
