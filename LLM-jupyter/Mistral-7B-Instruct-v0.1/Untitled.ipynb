{
 "cells": [
  {
   "cell_type": "code",
   "execution_count": 1,
   "id": "e4e9dac9-0000-4e67-83d9-0049e08c8d38",
   "metadata": {
    "execution": {
     "iopub.execute_input": "2025-07-17T21:25:17.410887Z",
     "iopub.status.busy": "2025-07-17T21:25:17.410382Z",
     "iopub.status.idle": "2025-07-17T21:25:20.871383Z",
     "shell.execute_reply": "2025-07-17T21:25:20.870799Z",
     "shell.execute_reply.started": "2025-07-17T21:25:17.410870Z"
    }
   },
   "outputs": [],
   "source": [
    "!pip install -q transformers accelerate bitsandbytes einops\n"
   ]
  },
  {
   "cell_type": "code",
   "execution_count": 2,
   "id": "b33fd0fc-3607-4240-97ef-ee7fce93e401",
   "metadata": {
    "execution": {
     "iopub.execute_input": "2025-07-17T21:25:30.613909Z",
     "iopub.status.busy": "2025-07-17T21:25:30.613542Z",
     "iopub.status.idle": "2025-07-17T21:27:35.598191Z",
     "shell.execute_reply": "2025-07-17T21:27:35.597729Z",
     "shell.execute_reply.started": "2025-07-17T21:25:30.613890Z"
    }
   },
   "outputs": [
    {
     "name": "stderr",
     "output_type": "stream",
     "text": [
      "2025-07-17 21:25:40.010541: E external/local_xla/xla/stream_executor/cuda/cuda_fft.cc:477] Unable to register cuFFT factory: Attempting to register factory for plugin cuFFT when one has already been registered\n",
      "WARNING: All log messages before absl::InitializeLog() is called are written to STDERR\n",
      "E0000 00:00:1752787540.033933    1269 cuda_dnn.cc:8310] Unable to register cuDNN factory: Attempting to register factory for plugin cuDNN when one has already been registered\n",
      "E0000 00:00:1752787540.042179    1269 cuda_blas.cc:1418] Unable to register cuBLAS factory: Attempting to register factory for plugin cuBLAS when one has already been registered\n",
      "2025-07-17 21:25:40.232959: I tensorflow/core/platform/cpu_feature_guard.cc:210] This TensorFlow binary is optimized to use available CPU instructions in performance-critical operations.\n",
      "To enable the following instructions: SSE4.1 SSE4.2 AVX AVX2 FMA, in other operations, rebuild TensorFlow with the appropriate compiler flags.\n"
     ]
    },
    {
     "data": {
      "application/vnd.jupyter.widget-view+json": {
       "model_id": "ed2b31d6aad0438d9f46b51901e3a839",
       "version_major": 2,
       "version_minor": 0
      },
      "text/plain": [
       "Loading checkpoint shards:   0%|          | 0/2 [00:00<?, ?it/s]"
      ]
     },
     "metadata": {},
     "output_type": "display_data"
    },
    {
     "name": "stderr",
     "output_type": "stream",
     "text": [
      "Device set to use cuda:0\n",
      "The following generation flags are not valid and may be ignored: ['temperature']. Set `TRANSFORMERS_VERBOSITY=info` for more details.\n"
     ]
    }
   ],
   "source": [
    "from transformers import AutoTokenizer, AutoModelForCausalLM, pipeline\n",
    "import torch\n",
    "\n",
    "model_id = \"mistralai/Mistral-7B-Instruct-v0.1\"\n",
    "\n",
    "tokenizer = AutoTokenizer.from_pretrained(model_id)\n",
    "model = AutoModelForCausalLM.from_pretrained(\n",
    "    model_id,\n",
    "    torch_dtype=torch.float16,\n",
    "    device_map=\"auto\"\n",
    ")\n",
    "\n",
    "pipe = pipeline(\n",
    "    \"text-generation\",\n",
    "    model=model,\n",
    "    tokenizer=tokenizer,\n",
    "    max_new_tokens=3072,\n",
    "    do_sample=False,\n",
    "    return_full_text=False  # prevents prompt repetition\n",
    ")\n"
   ]
  },
  {
   "cell_type": "code",
   "execution_count": 4,
   "id": "97671543-cbf7-46c5-8a35-282f146ab11f",
   "metadata": {
    "execution": {
     "iopub.execute_input": "2025-07-17T21:29:00.676245Z",
     "iopub.status.busy": "2025-07-17T21:29:00.675767Z",
     "iopub.status.idle": "2025-07-17T21:29:03.889433Z",
     "shell.execute_reply": "2025-07-17T21:29:03.888739Z",
     "shell.execute_reply.started": "2025-07-17T21:29:00.676223Z"
    }
   },
   "outputs": [
    {
     "name": "stdout",
     "output_type": "stream",
     "text": [
      "Collecting pdfplumber\n",
      "  Downloading pdfplumber-0.11.7-py3-none-any.whl.metadata (42 kB)\n",
      "Collecting pdfminer.six==20250506 (from pdfplumber)\n",
      "  Downloading pdfminer_six-20250506-py3-none-any.whl.metadata (4.2 kB)\n",
      "Requirement already satisfied: Pillow>=9.1 in /opt/conda/lib/python3.12/site-packages (from pdfplumber) (11.3.0)\n",
      "Collecting pypdfium2>=4.18.0 (from pdfplumber)\n",
      "  Downloading pypdfium2-4.30.1-py3-none-manylinux_2_17_x86_64.manylinux2014_x86_64.whl.metadata (48 kB)\n",
      "Requirement already satisfied: charset-normalizer>=2.0.0 in /opt/conda/lib/python3.12/site-packages (from pdfminer.six==20250506->pdfplumber) (3.4.2)\n",
      "Requirement already satisfied: cryptography>=36.0.0 in /opt/conda/lib/python3.12/site-packages (from pdfminer.six==20250506->pdfplumber) (45.0.5)\n",
      "Requirement already satisfied: cffi>=1.14 in /opt/conda/lib/python3.12/site-packages (from cryptography>=36.0.0->pdfminer.six==20250506->pdfplumber) (1.17.1)\n",
      "Requirement already satisfied: pycparser in /opt/conda/lib/python3.12/site-packages (from cffi>=1.14->cryptography>=36.0.0->pdfminer.six==20250506->pdfplumber) (2.22)\n",
      "Downloading pdfplumber-0.11.7-py3-none-any.whl (60 kB)\n",
      "Downloading pdfminer_six-20250506-py3-none-any.whl (5.6 MB)\n",
      "\u001b[2K   \u001b[90m━━━━━━━━━━━━━━━━━━━━━━━━━━━━━━━━━━━━━━━━\u001b[0m \u001b[32m5.6/5.6 MB\u001b[0m \u001b[31m112.4 MB/s\u001b[0m eta \u001b[36m0:00:00\u001b[0m\n",
      "\u001b[?25hDownloading pypdfium2-4.30.1-py3-none-manylinux_2_17_x86_64.manylinux2014_x86_64.whl (2.9 MB)\n",
      "\u001b[2K   \u001b[90m━━━━━━━━━━━━━━━━━━━━━━━━━━━━━━━━━━━━━━━━\u001b[0m \u001b[32m2.9/2.9 MB\u001b[0m \u001b[31m130.2 MB/s\u001b[0m eta \u001b[36m0:00:00\u001b[0m\n",
      "\u001b[?25hInstalling collected packages: pypdfium2, pdfminer.six, pdfplumber\n",
      "\u001b[2K   \u001b[90m━━━━━━━━━━━━━━━━━━━━━━━━━━━━━━━━━━━━━━━━\u001b[0m \u001b[32m3/3\u001b[0m [pdfplumber]3\u001b[0m [pdfplumber]x]\n",
      "\u001b[1A\u001b[2KSuccessfully installed pdfminer.six-20250506 pdfplumber-0.11.7 pypdfium2-4.30.1\n"
     ]
    }
   ],
   "source": [
    "!pip install pdfplumber"
   ]
  },
  {
   "cell_type": "code",
   "execution_count": 5,
   "id": "8303ab1e-6e97-4b8a-bdaf-86ef1d2f4231",
   "metadata": {
    "execution": {
     "iopub.execute_input": "2025-07-17T21:29:08.305531Z",
     "iopub.status.busy": "2025-07-17T21:29:08.305209Z",
     "iopub.status.idle": "2025-07-17T21:29:08.345549Z",
     "shell.execute_reply": "2025-07-17T21:29:08.344920Z",
     "shell.execute_reply.started": "2025-07-17T21:29:08.305512Z"
    }
   },
   "outputs": [],
   "source": [
    "import pdfplumber\n",
    "\n",
    "def extract_text_from_pdf(path):\n",
    "    with pdfplumber.open(path) as pdf:\n",
    "        text = \"\\n\".join([page.extract_text() for page in pdf.pages if page.extract_text()])\n",
    "    return text\n"
   ]
  },
  {
   "cell_type": "code",
   "execution_count": 6,
   "id": "c21f27b3-33de-49da-98e7-be4fe7babc20",
   "metadata": {
    "execution": {
     "iopub.execute_input": "2025-07-17T21:30:11.135279Z",
     "iopub.status.busy": "2025-07-17T21:30:11.134803Z",
     "iopub.status.idle": "2025-07-17T21:31:09.820269Z",
     "shell.execute_reply": "2025-07-17T21:31:09.819700Z",
     "shell.execute_reply.started": "2025-07-17T21:30:11.135259Z"
    }
   },
   "outputs": [
    {
     "name": "stderr",
     "output_type": "stream",
     "text": [
      "Could get FontBBox from font descriptor because None cannot be parsed as 4 floats\n",
      "Could get FontBBox from font descriptor because None cannot be parsed as 4 floats\n",
      "Could get FontBBox from font descriptor because None cannot be parsed as 4 floats\n",
      "Could get FontBBox from font descriptor because None cannot be parsed as 4 floats\n",
      "Could get FontBBox from font descriptor because None cannot be parsed as 4 floats\n",
      "The following generation flags are not valid and may be ignored: ['temperature']. Set `TRANSFORMERS_VERBOSITY=info` for more details.\n",
      "Setting `pad_token_id` to `eos_token_id`:2 for open-end generation.\n"
     ]
    },
    {
     "name": "stdout",
     "output_type": "stream",
     "text": [
      "\n",
      "{\n",
      "\"name\": \"Yahya Banouk\",\n",
      "\"profile\": \"Full Stack Software Engineer\",\n",
      "\"phone\": \"+33 758685229\",\n",
      "\"email\": \"[yahya.banouk@hotmail.com](mailto:yahya.banouk@hotmail.com)\",\n",
      "\"address\": null,\n",
      "\"experience\": [\n",
      "{\n",
      "\"title\": \"Full Stack Software Engineer\",\n",
      "\"company\": \"Expersi\",\n",
      "\"location\": \"Paris\",\n",
      "\"employment_period\": \"December 2023 - Present\",\n",
      "\"responsibilities\": [\n",
      "\"Contributed to the development and maintenance of scalable backend solutions and REST APIs using Python (FastAPI) and Java (Spring Boot)\",\n",
      "\"Assisted in building front-end components with ReactJS, Selenium for data ingestion of 5 platforms and pipeline support and AWS\",\n",
      "\"Participated in the implementation of an internal AI platform integrating LLMs and RAG pipelines, leveraging AWS services such as Bedrock, Redshift, Lambda, API Gateway, and S3\",\n",
      "\"Fine-tuning (4 times) and deploying custom machine learning models into production to enable search and data retrieval features\",\n",
      "\"Fixed bugs and implemented new features while following clean code principles and established design patterns\",\n",
      "\"Participated in Agile Scrum ceremonies, including sprint planning and retrospectives, and collaborated in code reviews to support high development standards\",\n",
      "\"Managed version control, code reviews, and CI/CD pipelines using Git and GitHub actions\"\n",
      "]\n",
      "},\n",
      "{\n",
      "\"title\": \"Software Engineer\",\n",
      "\"company\": \"Zsoft Consulting\",\n",
      "\"location\": \"Paris\",\n",
      "\"employment_period\": \"March 2023 - December 2023\",\n",
      "\"responsibilities\": [\n",
      "\"Contributed to the development of a Human Resources Information System (HRIS) using Spring Boot, ReactJS, Liquibase, and AWS services such as S3 and RDS\",\n",
      "\"Identified and resolved dozens of bugs, and implemented new features by applying clean code practices and established design patterns\",\n",
      "\"Maintained and enhanced internal tools to support employee and business process management, improving operational efficiency (2 POC)\",\n",
      "\"Implemented 1 centralized logging and monitoring through the ELK Stack to support observability and early issue detection\",\n",
      "\"Contributed to Agile ceremonies including daily stand-ups and sprint planning sessions, ensuring alignment and timely delivery\",\n",
      "\"Managed source code versioning and merge processes via Git and GitLab, promoting collaborative development and code integrity\"\n",
      "]\n",
      "},\n",
      "{\n",
      "\"title\": \"Full Stack Developer\",\n",
      "\"company\": \"HIBAPOWER\",\n",
      "\"location\": \"Morocco\",\n",
      "\"employment_period\": \"March 2021 - September 2021\",\n",
      "\"responsibilities\": [\n",
      "\"Contributed to the development of a candidate management system with both web and desktop versions, using Spring Boot for backend services, ReactJS, C# for the desktop client\",\n",
      "\"Participated in the setup of infrastructure and supported the creation of a deployment pipeline to enable continuous delivery\",\n",
      "\"Collaborated on product backlog definition and helped coordinate sprints in line with Agile practices to ensure timely and organized delivery\",\n",
      "\"Maintained and versioned the codebase using Git and GitHub, supporting a collaborative and traceable development process\",\n",
      "\"Integrated RESTful APIs with frontend applications, facilitating seamless data exchange and enhancing user experiences across multiple platforms\"\n",
      "]\n",
      "},\n",
      "{\n",
      "\"title\": \"Web Developer\",\n",
      "\"company\": \"ORBILAC Internship\",\n",
      "\"location\": \"Morocco\",\n",
      "\"employment_period\": \"May 2020 - December 2020\",\n",
      "\"responsibilities\": [\n",
      "\"Contributes on a stock management system, using ReactJS for the frontend, and Spring Boot for backend services\",\n",
      "\"Handled access rights management, system services configuration, and deployed applications in Linux environments to ensure secure and stable operations\",\n",
      "\"Collaborated on code development and managed source control using Git and GitHub to support team-based workflows and versioning\"\n",
      "]\n",
      "}\n",
      "],\n",
      "\"education\": [\n",
      "{\n",
      "\"degree\": \"Master's Degree\",\n",
      "\"institution\": \"ENSIAS (National School of Computer Science and Systems Analysis)\",\n",
      "\"major\": \"Internet of Things: Software and Analytics\",\n",
      "\"minor\": \"Software and Analytics\",\n",
      "\"location\": \"Rabat, Morocco\",\n",
      "\"graduation_year\": \"2023\"\n",
      "},\n",
      "{\n",
      "\"degree\": \"Bachelor's Degree\",\n",
      "\"institution\": \"Ibn Tofail University\",\n",
      "\"major\": \"Computer and Mathematical Sciences\",\n",
      "\"minor\": \"Computer and Mathematical Sciences\",\n",
      "\"location\": \"Kenitra, Morocco\",\n",
      "\"graduation_year\": \"2021\"\n",
      "}\n",
      "],\n",
      "\"certifications\": [\n",
      "{\n",
      "\"name\": \"AWS Certified Solutions Architect – Associate\",\n",
      "\"issuing_organization\": \"Amazon Web Services Training and Certification\",\n",
      "\"certification_year\": \"2024\"\n",
      "},\n",
      "{\n",
      "\"name\": \"AWS Certified Cloud Practitioner\",\n",
      "\"issuing_organization\": \"Amazon Web Services Training and Certification\",\n",
      "\"certification_year\": \"2023\"\n",
      "}\n",
      "],\n",
      "\"skills\": [\n",
      "\"Front End: Typescript, Javascript, React\",\n",
      "\"Backend: Java Spring Boot, Python FastAPI\",\n",
      "\"Data: MySQL, RDS, Redshift, S3, ETL, Liquibase, Microsoft SQL Server\",\n",
      "\"Deployment: AWS(EC2, ECS), Docker\",\n",
      "\"CI/CD: Git, GitHub action, SonarQube, Docker\",\n",
      "\"Agile Development Practices: SCRUM, Test-Driven Development (TDD), and pair programming\"\n",
      "]\n",
      "}\n"
     ]
    }
   ],
   "source": [
    "cv_text = extract_text_from_pdf(\"./Software Engineer.pdf\")\n",
    "\n",
    "prompt = f\"\"\"\n",
    "Extract the following fields from this CV and return a valid JSON object:\n",
    "\n",
    "name, profile, phone, email, address, experience, education, certifications, skills\n",
    "\n",
    "Return only valid JSON. No commentary or labels.\n",
    "\n",
    "CV:\n",
    "\\\"\\\"\\\"{cv_text}\\\"\\\"\\\"\n",
    "\"\"\"\n",
    "\n",
    "output = pipe(prompt)[0][\"generated_text\"]\n",
    "print(output)\n"
   ]
  },
  {
   "cell_type": "code",
   "execution_count": null,
   "id": "324b089e-5077-4063-9333-38d0f3c54129",
   "metadata": {},
   "outputs": [],
   "source": []
  }
 ],
 "metadata": {
  "kernelspec": {
   "display_name": "Python 3 (ipykernel)",
   "language": "python",
   "name": "python3"
  },
  "language_info": {
   "codemirror_mode": {
    "name": "ipython",
    "version": 3
   },
   "file_extension": ".py",
   "mimetype": "text/x-python",
   "name": "python",
   "nbconvert_exporter": "python",
   "pygments_lexer": "ipython3",
   "version": "3.12.9"
  }
 },
 "nbformat": 4,
 "nbformat_minor": 5
}
